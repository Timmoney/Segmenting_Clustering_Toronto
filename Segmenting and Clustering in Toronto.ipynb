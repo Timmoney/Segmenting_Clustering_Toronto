{
 "cells": [
  {
   "cell_type": "markdown",
   "metadata": {},
   "source": [
    "# Assignment: Segmenting and Clustering Neighborhoods in Toronto\n",
    "## First Part: Scrap Data from Website and Clean it"
   ]
  },
  {
   "cell_type": "code",
   "execution_count": 1,
   "metadata": {},
   "outputs": [],
   "source": [
    "#import package\n",
    "from bs4 import BeautifulSoup\n",
    "import requests\n",
    "import pandas as pd"
   ]
  },
  {
   "cell_type": "markdown",
   "metadata": {},
   "source": [
    "Using requests to get url address\n",
    "<br>Creating soup object from source in 'lxml'"
   ]
  },
  {
   "cell_type": "code",
   "execution_count": 2,
   "metadata": {},
   "outputs": [],
   "source": [
    "#get url\n",
    "source = requests.get('https://en.wikipedia.org/wiki/List_of_postal_codes_of_Canada:_M').text\n",
    "soup = BeautifulSoup(source, 'lxml')"
   ]
  },
  {
   "cell_type": "markdown",
   "metadata": {},
   "source": [
    "Parse the info from body --> div --> class --> table\n",
    "<br>Return a list of dataframe where 0 index is our table"
   ]
  },
  {
   "cell_type": "code",
   "execution_count": 3,
   "metadata": {},
   "outputs": [],
   "source": [
    "#parse table\n",
    "table = soup.body.find('div', class_ = 'mw-parser-output').find('table')\n",
    "\n",
    "#the reason to put [0] --> table is on the first index of the list\n",
    "df = pd.read_html(str(table))[0]"
   ]
  },
  {
   "cell_type": "code",
   "execution_count": 4,
   "metadata": {},
   "outputs": [
    {
     "data": {
      "text/html": [
       "<div>\n",
       "<style scoped>\n",
       "    .dataframe tbody tr th:only-of-type {\n",
       "        vertical-align: middle;\n",
       "    }\n",
       "\n",
       "    .dataframe tbody tr th {\n",
       "        vertical-align: top;\n",
       "    }\n",
       "\n",
       "    .dataframe thead th {\n",
       "        text-align: right;\n",
       "    }\n",
       "</style>\n",
       "<table border=\"1\" class=\"dataframe\">\n",
       "  <thead>\n",
       "    <tr style=\"text-align: right;\">\n",
       "      <th></th>\n",
       "      <th>Postcode</th>\n",
       "      <th>Borough</th>\n",
       "      <th>Neighbourhood</th>\n",
       "    </tr>\n",
       "  </thead>\n",
       "  <tbody>\n",
       "    <tr>\n",
       "      <th>0</th>\n",
       "      <td>M1A</td>\n",
       "      <td>Not assigned</td>\n",
       "      <td>Not assigned</td>\n",
       "    </tr>\n",
       "    <tr>\n",
       "      <th>1</th>\n",
       "      <td>M2A</td>\n",
       "      <td>Not assigned</td>\n",
       "      <td>Not assigned</td>\n",
       "    </tr>\n",
       "    <tr>\n",
       "      <th>2</th>\n",
       "      <td>M3A</td>\n",
       "      <td>North York</td>\n",
       "      <td>Parkwoods</td>\n",
       "    </tr>\n",
       "    <tr>\n",
       "      <th>3</th>\n",
       "      <td>M4A</td>\n",
       "      <td>North York</td>\n",
       "      <td>Victoria Village</td>\n",
       "    </tr>\n",
       "    <tr>\n",
       "      <th>4</th>\n",
       "      <td>M5A</td>\n",
       "      <td>Downtown Toronto</td>\n",
       "      <td>Harbourfront</td>\n",
       "    </tr>\n",
       "  </tbody>\n",
       "</table>\n",
       "</div>"
      ],
      "text/plain": [
       "  Postcode           Borough     Neighbourhood\n",
       "0      M1A      Not assigned      Not assigned\n",
       "1      M2A      Not assigned      Not assigned\n",
       "2      M3A        North York         Parkwoods\n",
       "3      M4A        North York  Victoria Village\n",
       "4      M5A  Downtown Toronto      Harbourfront"
      ]
     },
     "execution_count": 4,
     "metadata": {},
     "output_type": "execute_result"
    }
   ],
   "source": [
    "df.head()"
   ]
  },
  {
   "cell_type": "markdown",
   "metadata": {},
   "source": [
    "Extract info without Borough 'Not assigned'"
   ]
  },
  {
   "cell_type": "code",
   "execution_count": 5,
   "metadata": {},
   "outputs": [
    {
     "data": {
      "text/html": [
       "<div>\n",
       "<style scoped>\n",
       "    .dataframe tbody tr th:only-of-type {\n",
       "        vertical-align: middle;\n",
       "    }\n",
       "\n",
       "    .dataframe tbody tr th {\n",
       "        vertical-align: top;\n",
       "    }\n",
       "\n",
       "    .dataframe thead th {\n",
       "        text-align: right;\n",
       "    }\n",
       "</style>\n",
       "<table border=\"1\" class=\"dataframe\">\n",
       "  <thead>\n",
       "    <tr style=\"text-align: right;\">\n",
       "      <th></th>\n",
       "      <th>Postcode</th>\n",
       "      <th>Borough</th>\n",
       "      <th>Neighbourhood</th>\n",
       "    </tr>\n",
       "  </thead>\n",
       "  <tbody>\n",
       "    <tr>\n",
       "      <th>2</th>\n",
       "      <td>M3A</td>\n",
       "      <td>North York</td>\n",
       "      <td>Parkwoods</td>\n",
       "    </tr>\n",
       "    <tr>\n",
       "      <th>3</th>\n",
       "      <td>M4A</td>\n",
       "      <td>North York</td>\n",
       "      <td>Victoria Village</td>\n",
       "    </tr>\n",
       "    <tr>\n",
       "      <th>4</th>\n",
       "      <td>M5A</td>\n",
       "      <td>Downtown Toronto</td>\n",
       "      <td>Harbourfront</td>\n",
       "    </tr>\n",
       "    <tr>\n",
       "      <th>5</th>\n",
       "      <td>M6A</td>\n",
       "      <td>North York</td>\n",
       "      <td>Lawrence Heights</td>\n",
       "    </tr>\n",
       "    <tr>\n",
       "      <th>6</th>\n",
       "      <td>M6A</td>\n",
       "      <td>North York</td>\n",
       "      <td>Lawrence Manor</td>\n",
       "    </tr>\n",
       "  </tbody>\n",
       "</table>\n",
       "</div>"
      ],
      "text/plain": [
       "  Postcode           Borough     Neighbourhood\n",
       "2      M3A        North York         Parkwoods\n",
       "3      M4A        North York  Victoria Village\n",
       "4      M5A  Downtown Toronto      Harbourfront\n",
       "5      M6A        North York  Lawrence Heights\n",
       "6      M6A        North York    Lawrence Manor"
      ]
     },
     "execution_count": 5,
     "metadata": {},
     "output_type": "execute_result"
    }
   ],
   "source": [
    "# 1. remove Borough that is not assigned\n",
    "df_B = df[df.Borough != 'Not assigned']\n",
    "df_B.head()"
   ]
  },
  {
   "cell_type": "markdown",
   "metadata": {},
   "source": [
    "Combine rows according to Postcode and use agg func to separate them"
   ]
  },
  {
   "cell_type": "code",
   "execution_count": 6,
   "metadata": {},
   "outputs": [
    {
     "data": {
      "text/html": [
       "<div>\n",
       "<style scoped>\n",
       "    .dataframe tbody tr th:only-of-type {\n",
       "        vertical-align: middle;\n",
       "    }\n",
       "\n",
       "    .dataframe tbody tr th {\n",
       "        vertical-align: top;\n",
       "    }\n",
       "\n",
       "    .dataframe thead th {\n",
       "        text-align: right;\n",
       "    }\n",
       "</style>\n",
       "<table border=\"1\" class=\"dataframe\">\n",
       "  <thead>\n",
       "    <tr style=\"text-align: right;\">\n",
       "      <th></th>\n",
       "      <th>Postcode</th>\n",
       "      <th>Neighbourhood</th>\n",
       "      <th>Borough</th>\n",
       "    </tr>\n",
       "  </thead>\n",
       "  <tbody>\n",
       "    <tr>\n",
       "      <th>0</th>\n",
       "      <td>M1B</td>\n",
       "      <td>Rouge, Malvern</td>\n",
       "      <td>Scarborough</td>\n",
       "    </tr>\n",
       "    <tr>\n",
       "      <th>1</th>\n",
       "      <td>M1C</td>\n",
       "      <td>Highland Creek, Rouge Hill, Port Union</td>\n",
       "      <td>Scarborough</td>\n",
       "    </tr>\n",
       "    <tr>\n",
       "      <th>2</th>\n",
       "      <td>M1E</td>\n",
       "      <td>Guildwood, Morningside, West Hill</td>\n",
       "      <td>Scarborough</td>\n",
       "    </tr>\n",
       "    <tr>\n",
       "      <th>3</th>\n",
       "      <td>M1G</td>\n",
       "      <td>Woburn</td>\n",
       "      <td>Scarborough</td>\n",
       "    </tr>\n",
       "    <tr>\n",
       "      <th>4</th>\n",
       "      <td>M1H</td>\n",
       "      <td>Cedarbrae</td>\n",
       "      <td>Scarborough</td>\n",
       "    </tr>\n",
       "  </tbody>\n",
       "</table>\n",
       "</div>"
      ],
      "text/plain": [
       "  Postcode                           Neighbourhood      Borough\n",
       "0      M1B                          Rouge, Malvern  Scarborough\n",
       "1      M1C  Highland Creek, Rouge Hill, Port Union  Scarborough\n",
       "2      M1E       Guildwood, Morningside, West Hill  Scarborough\n",
       "3      M1G                                  Woburn  Scarborough\n",
       "4      M1H                               Cedarbrae  Scarborough"
      ]
     },
     "execution_count": 6,
     "metadata": {},
     "output_type": "execute_result"
    }
   ],
   "source": [
    "# 2.0 combine neighbourhood with same postcode\n",
    "df_postcode = df_B.groupby('Postcode', as_index = False).agg({'Neighbourhood': ', '.join, 'Borough': 'first'})\n",
    "df_postcode.head()"
   ]
  },
  {
   "cell_type": "markdown",
   "metadata": {},
   "source": [
    "Rearrange the columns"
   ]
  },
  {
   "cell_type": "code",
   "execution_count": 7,
   "metadata": {},
   "outputs": [
    {
     "data": {
      "text/html": [
       "<div>\n",
       "<style scoped>\n",
       "    .dataframe tbody tr th:only-of-type {\n",
       "        vertical-align: middle;\n",
       "    }\n",
       "\n",
       "    .dataframe tbody tr th {\n",
       "        vertical-align: top;\n",
       "    }\n",
       "\n",
       "    .dataframe thead th {\n",
       "        text-align: right;\n",
       "    }\n",
       "</style>\n",
       "<table border=\"1\" class=\"dataframe\">\n",
       "  <thead>\n",
       "    <tr style=\"text-align: right;\">\n",
       "      <th></th>\n",
       "      <th>Postcode</th>\n",
       "      <th>Borough</th>\n",
       "      <th>Neighbourhood</th>\n",
       "    </tr>\n",
       "  </thead>\n",
       "  <tbody>\n",
       "    <tr>\n",
       "      <th>0</th>\n",
       "      <td>M1B</td>\n",
       "      <td>Scarborough</td>\n",
       "      <td>Rouge, Malvern</td>\n",
       "    </tr>\n",
       "    <tr>\n",
       "      <th>1</th>\n",
       "      <td>M1C</td>\n",
       "      <td>Scarborough</td>\n",
       "      <td>Highland Creek, Rouge Hill, Port Union</td>\n",
       "    </tr>\n",
       "    <tr>\n",
       "      <th>2</th>\n",
       "      <td>M1E</td>\n",
       "      <td>Scarborough</td>\n",
       "      <td>Guildwood, Morningside, West Hill</td>\n",
       "    </tr>\n",
       "    <tr>\n",
       "      <th>3</th>\n",
       "      <td>M1G</td>\n",
       "      <td>Scarborough</td>\n",
       "      <td>Woburn</td>\n",
       "    </tr>\n",
       "    <tr>\n",
       "      <th>4</th>\n",
       "      <td>M1H</td>\n",
       "      <td>Scarborough</td>\n",
       "      <td>Cedarbrae</td>\n",
       "    </tr>\n",
       "  </tbody>\n",
       "</table>\n",
       "</div>"
      ],
      "text/plain": [
       "  Postcode      Borough                           Neighbourhood\n",
       "0      M1B  Scarborough                          Rouge, Malvern\n",
       "1      M1C  Scarborough  Highland Creek, Rouge Hill, Port Union\n",
       "2      M1E  Scarborough       Guildwood, Morningside, West Hill\n",
       "3      M1G  Scarborough                                  Woburn\n",
       "4      M1H  Scarborough                               Cedarbrae"
      ]
     },
     "execution_count": 7,
     "metadata": {},
     "output_type": "execute_result"
    }
   ],
   "source": [
    "# 2.1 re-column the dataframe\n",
    "new_df_postcode = df_postcode[['Postcode', 'Borough', 'Neighbourhood']]\n",
    "new_df_postcode.head()"
   ]
  },
  {
   "cell_type": "markdown",
   "metadata": {},
   "source": [
    "Check how many rows contain neighbourhood with 'Not assigned'"
   ]
  },
  {
   "cell_type": "code",
   "execution_count": 8,
   "metadata": {},
   "outputs": [
    {
     "data": {
      "text/html": [
       "<div>\n",
       "<style scoped>\n",
       "    .dataframe tbody tr th:only-of-type {\n",
       "        vertical-align: middle;\n",
       "    }\n",
       "\n",
       "    .dataframe tbody tr th {\n",
       "        vertical-align: top;\n",
       "    }\n",
       "\n",
       "    .dataframe thead th {\n",
       "        text-align: right;\n",
       "    }\n",
       "</style>\n",
       "<table border=\"1\" class=\"dataframe\">\n",
       "  <thead>\n",
       "    <tr style=\"text-align: right;\">\n",
       "      <th></th>\n",
       "      <th>Postcode</th>\n",
       "      <th>Borough</th>\n",
       "      <th>Neighbourhood</th>\n",
       "    </tr>\n",
       "  </thead>\n",
       "  <tbody>\n",
       "    <tr>\n",
       "      <th>93</th>\n",
       "      <td>M9A</td>\n",
       "      <td>Queen's Park</td>\n",
       "      <td>Not assigned</td>\n",
       "    </tr>\n",
       "  </tbody>\n",
       "</table>\n",
       "</div>"
      ],
      "text/plain": [
       "   Postcode       Borough Neighbourhood\n",
       "93      M9A  Queen's Park  Not assigned"
      ]
     },
     "execution_count": 8,
     "metadata": {},
     "output_type": "execute_result"
    }
   ],
   "source": [
    "# 3.0 Reassigned 'not assigned' Neighbourhood with corresponding borough --> 1st check how many\n",
    "check_df = new_df_postcode.loc[new_df_postcode['Neighbourhood'] == 'Not assigned']\n",
    "check_df"
   ]
  },
  {
   "cell_type": "markdown",
   "metadata": {},
   "source": [
    "Since we only have 1 row (Queen's Park) contains 'Not assigned' neighbourhood, we can just change it directly"
   ]
  },
  {
   "cell_type": "code",
   "execution_count": 9,
   "metadata": {},
   "outputs": [
    {
     "data": {
      "text/html": [
       "<div>\n",
       "<style scoped>\n",
       "    .dataframe tbody tr th:only-of-type {\n",
       "        vertical-align: middle;\n",
       "    }\n",
       "\n",
       "    .dataframe tbody tr th {\n",
       "        vertical-align: top;\n",
       "    }\n",
       "\n",
       "    .dataframe thead th {\n",
       "        text-align: right;\n",
       "    }\n",
       "</style>\n",
       "<table border=\"1\" class=\"dataframe\">\n",
       "  <thead>\n",
       "    <tr style=\"text-align: right;\">\n",
       "      <th></th>\n",
       "      <th>Postcode</th>\n",
       "      <th>Borough</th>\n",
       "      <th>Neighbourhood</th>\n",
       "    </tr>\n",
       "  </thead>\n",
       "  <tbody>\n",
       "    <tr>\n",
       "      <th>93</th>\n",
       "      <td>M9A</td>\n",
       "      <td>Queen's Park</td>\n",
       "      <td>Queen's Park</td>\n",
       "    </tr>\n",
       "  </tbody>\n",
       "</table>\n",
       "</div>"
      ],
      "text/plain": [
       "   Postcode       Borough Neighbourhood\n",
       "93      M9A  Queen's Park  Queen's Park"
      ]
     },
     "execution_count": 9,
     "metadata": {},
     "output_type": "execute_result"
    }
   ],
   "source": [
    "# 3.1 Since we only have 1 not assigned, just change it\n",
    "new_df_postcode.loc[93, 'Neighbourhood'] = \"Queen's Park\"\n",
    "\n",
    "double_check_df = new_df_postcode.loc[[93]]\n",
    "double_check_df"
   ]
  },
  {
   "cell_type": "markdown",
   "metadata": {},
   "source": [
    "Get the final shape of the dataframe"
   ]
  },
  {
   "cell_type": "code",
   "execution_count": 10,
   "metadata": {},
   "outputs": [
    {
     "data": {
      "text/plain": [
       "(103, 3)"
      ]
     },
     "execution_count": 10,
     "metadata": {},
     "output_type": "execute_result"
    }
   ],
   "source": [
    "# 4. Provide the shape of the dataframe\n",
    "new_df_postcode.shape"
   ]
  },
  {
   "cell_type": "markdown",
   "metadata": {},
   "source": [
    "## Second Part: Merge Dataset with Latitude and Longitude\n",
    "Import the second dataframe"
   ]
  },
  {
   "cell_type": "code",
   "execution_count": 11,
   "metadata": {},
   "outputs": [
    {
     "data": {
      "text/html": [
       "<div>\n",
       "<style scoped>\n",
       "    .dataframe tbody tr th:only-of-type {\n",
       "        vertical-align: middle;\n",
       "    }\n",
       "\n",
       "    .dataframe tbody tr th {\n",
       "        vertical-align: top;\n",
       "    }\n",
       "\n",
       "    .dataframe thead th {\n",
       "        text-align: right;\n",
       "    }\n",
       "</style>\n",
       "<table border=\"1\" class=\"dataframe\">\n",
       "  <thead>\n",
       "    <tr style=\"text-align: right;\">\n",
       "      <th></th>\n",
       "      <th>Postal Code</th>\n",
       "      <th>Latitude</th>\n",
       "      <th>Longitude</th>\n",
       "    </tr>\n",
       "  </thead>\n",
       "  <tbody>\n",
       "    <tr>\n",
       "      <th>0</th>\n",
       "      <td>M1B</td>\n",
       "      <td>43.806686</td>\n",
       "      <td>-79.194353</td>\n",
       "    </tr>\n",
       "    <tr>\n",
       "      <th>1</th>\n",
       "      <td>M1C</td>\n",
       "      <td>43.784535</td>\n",
       "      <td>-79.160497</td>\n",
       "    </tr>\n",
       "    <tr>\n",
       "      <th>2</th>\n",
       "      <td>M1E</td>\n",
       "      <td>43.763573</td>\n",
       "      <td>-79.188711</td>\n",
       "    </tr>\n",
       "    <tr>\n",
       "      <th>3</th>\n",
       "      <td>M1G</td>\n",
       "      <td>43.770992</td>\n",
       "      <td>-79.216917</td>\n",
       "    </tr>\n",
       "    <tr>\n",
       "      <th>4</th>\n",
       "      <td>M1H</td>\n",
       "      <td>43.773136</td>\n",
       "      <td>-79.239476</td>\n",
       "    </tr>\n",
       "  </tbody>\n",
       "</table>\n",
       "</div>"
      ],
      "text/plain": [
       "  Postal Code   Latitude  Longitude\n",
       "0         M1B  43.806686 -79.194353\n",
       "1         M1C  43.784535 -79.160497\n",
       "2         M1E  43.763573 -79.188711\n",
       "3         M1G  43.770992 -79.216917\n",
       "4         M1H  43.773136 -79.239476"
      ]
     },
     "execution_count": 11,
     "metadata": {},
     "output_type": "execute_result"
    }
   ],
   "source": [
    "# 5.0 Combine Longitude and Lattitude to the previous dataframe \n",
    "# first get csv file\n",
    "\n",
    "LL = pd.read_csv('Geospatial_Coordinates.csv')\n",
    "LL.head()"
   ]
  },
  {
   "cell_type": "code",
   "execution_count": 12,
   "metadata": {},
   "outputs": [
    {
     "data": {
      "text/html": [
       "<div>\n",
       "<style scoped>\n",
       "    .dataframe tbody tr th:only-of-type {\n",
       "        vertical-align: middle;\n",
       "    }\n",
       "\n",
       "    .dataframe tbody tr th {\n",
       "        vertical-align: top;\n",
       "    }\n",
       "\n",
       "    .dataframe thead th {\n",
       "        text-align: right;\n",
       "    }\n",
       "</style>\n",
       "<table border=\"1\" class=\"dataframe\">\n",
       "  <thead>\n",
       "    <tr style=\"text-align: right;\">\n",
       "      <th></th>\n",
       "      <th>Postcode</th>\n",
       "      <th>Latitude</th>\n",
       "      <th>Longitude</th>\n",
       "    </tr>\n",
       "  </thead>\n",
       "  <tbody>\n",
       "    <tr>\n",
       "      <th>0</th>\n",
       "      <td>M1B</td>\n",
       "      <td>43.806686</td>\n",
       "      <td>-79.194353</td>\n",
       "    </tr>\n",
       "    <tr>\n",
       "      <th>1</th>\n",
       "      <td>M1C</td>\n",
       "      <td>43.784535</td>\n",
       "      <td>-79.160497</td>\n",
       "    </tr>\n",
       "    <tr>\n",
       "      <th>2</th>\n",
       "      <td>M1E</td>\n",
       "      <td>43.763573</td>\n",
       "      <td>-79.188711</td>\n",
       "    </tr>\n",
       "    <tr>\n",
       "      <th>3</th>\n",
       "      <td>M1G</td>\n",
       "      <td>43.770992</td>\n",
       "      <td>-79.216917</td>\n",
       "    </tr>\n",
       "    <tr>\n",
       "      <th>4</th>\n",
       "      <td>M1H</td>\n",
       "      <td>43.773136</td>\n",
       "      <td>-79.239476</td>\n",
       "    </tr>\n",
       "  </tbody>\n",
       "</table>\n",
       "</div>"
      ],
      "text/plain": [
       "  Postcode   Latitude  Longitude\n",
       "0      M1B  43.806686 -79.194353\n",
       "1      M1C  43.784535 -79.160497\n",
       "2      M1E  43.763573 -79.188711\n",
       "3      M1G  43.770992 -79.216917\n",
       "4      M1H  43.773136 -79.239476"
      ]
     },
     "execution_count": 12,
     "metadata": {},
     "output_type": "execute_result"
    }
   ],
   "source": [
    "# 5.1 Rename column so we can merge them\n",
    "LL = LL.rename(columns={\"Postal Code\": \"Postcode\"})\n",
    "LL.head()"
   ]
  },
  {
   "cell_type": "code",
   "execution_count": 13,
   "metadata": {},
   "outputs": [
    {
     "data": {
      "text/html": [
       "<div>\n",
       "<style scoped>\n",
       "    .dataframe tbody tr th:only-of-type {\n",
       "        vertical-align: middle;\n",
       "    }\n",
       "\n",
       "    .dataframe tbody tr th {\n",
       "        vertical-align: top;\n",
       "    }\n",
       "\n",
       "    .dataframe thead th {\n",
       "        text-align: right;\n",
       "    }\n",
       "</style>\n",
       "<table border=\"1\" class=\"dataframe\">\n",
       "  <thead>\n",
       "    <tr style=\"text-align: right;\">\n",
       "      <th></th>\n",
       "      <th>Postcode</th>\n",
       "      <th>Borough</th>\n",
       "      <th>Neighbourhood</th>\n",
       "      <th>Latitude</th>\n",
       "      <th>Longitude</th>\n",
       "    </tr>\n",
       "  </thead>\n",
       "  <tbody>\n",
       "    <tr>\n",
       "      <th>0</th>\n",
       "      <td>M1B</td>\n",
       "      <td>Scarborough</td>\n",
       "      <td>Rouge, Malvern</td>\n",
       "      <td>43.806686</td>\n",
       "      <td>-79.194353</td>\n",
       "    </tr>\n",
       "    <tr>\n",
       "      <th>1</th>\n",
       "      <td>M1C</td>\n",
       "      <td>Scarborough</td>\n",
       "      <td>Highland Creek, Rouge Hill, Port Union</td>\n",
       "      <td>43.784535</td>\n",
       "      <td>-79.160497</td>\n",
       "    </tr>\n",
       "    <tr>\n",
       "      <th>2</th>\n",
       "      <td>M1E</td>\n",
       "      <td>Scarborough</td>\n",
       "      <td>Guildwood, Morningside, West Hill</td>\n",
       "      <td>43.763573</td>\n",
       "      <td>-79.188711</td>\n",
       "    </tr>\n",
       "    <tr>\n",
       "      <th>3</th>\n",
       "      <td>M1G</td>\n",
       "      <td>Scarborough</td>\n",
       "      <td>Woburn</td>\n",
       "      <td>43.770992</td>\n",
       "      <td>-79.216917</td>\n",
       "    </tr>\n",
       "    <tr>\n",
       "      <th>4</th>\n",
       "      <td>M1H</td>\n",
       "      <td>Scarborough</td>\n",
       "      <td>Cedarbrae</td>\n",
       "      <td>43.773136</td>\n",
       "      <td>-79.239476</td>\n",
       "    </tr>\n",
       "  </tbody>\n",
       "</table>\n",
       "</div>"
      ],
      "text/plain": [
       "  Postcode      Borough                           Neighbourhood   Latitude  \\\n",
       "0      M1B  Scarborough                          Rouge, Malvern  43.806686   \n",
       "1      M1C  Scarborough  Highland Creek, Rouge Hill, Port Union  43.784535   \n",
       "2      M1E  Scarborough       Guildwood, Morningside, West Hill  43.763573   \n",
       "3      M1G  Scarborough                                  Woburn  43.770992   \n",
       "4      M1H  Scarborough                               Cedarbrae  43.773136   \n",
       "\n",
       "   Longitude  \n",
       "0 -79.194353  \n",
       "1 -79.160497  \n",
       "2 -79.188711  \n",
       "3 -79.216917  \n",
       "4 -79.239476  "
      ]
     },
     "execution_count": 13,
     "metadata": {},
     "output_type": "execute_result"
    }
   ],
   "source": [
    "merge_df = pd.merge(new_df_postcode, LL, on = \"Postcode\")\n",
    "merge_df.head()"
   ]
  },
  {
   "cell_type": "markdown",
   "metadata": {},
   "source": [
    "## Third Part: Data Clustering and Visualization\n",
    "Using geopy --> get the Toronto coordinate\n",
    "<br>Using folium --> to plot the map"
   ]
  },
  {
   "cell_type": "code",
   "execution_count": 14,
   "metadata": {},
   "outputs": [
    {
     "name": "stdout",
     "output_type": "stream",
     "text": [
      "The geograpical coordinate of Toronto City is 43.653963, -79.387207.\n"
     ]
    }
   ],
   "source": [
    "# 6.1 Get the Toronto city coordinate from geopy package\n",
    "import folium\n",
    "from geopy.geocoders import Nominatim\n",
    "\n",
    "address = 'Toronto City, CA'\n",
    "\n",
    "geolocator = Nominatim(user_agent=\"to_explorer\")\n",
    "location = geolocator.geocode(address)\n",
    "latitude = location.latitude\n",
    "longitude = location.longitude\n",
    "print('The geograpical coordinate of Toronto City is {}, {}.'.format(latitude, longitude))"
   ]
  },
  {
   "cell_type": "markdown",
   "metadata": {},
   "source": [
    "1. Set the Toronto cooridinate as center\n",
    "2. Get data from merge_df\n",
    "3. Creating circles around city of Toronto\n",
    "4. Display"
   ]
  },
  {
   "cell_type": "code",
   "execution_count": 15,
   "metadata": {
    "scrolled": true
   },
   "outputs": [
    {
     "data": {
      "text/html": [
       "<div style=\"width:100%;\"><div style=\"position:relative;width:100%;height:0;padding-bottom:60%;\"><iframe src=\"data:text/html;charset=utf-8;base64,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\" style=\"position:absolute;width:100%;height:100%;left:0;top:0;border:none !important;\" allowfullscreen webkitallowfullscreen mozallowfullscreen></iframe></div></div>"
      ],
      "text/plain": [
       "<folium.folium.Map at 0xb275310>"
      ]
     },
     "execution_count": 15,
     "metadata": {},
     "output_type": "execute_result"
    }
   ],
   "source": [
    "# 6.2 Plot the neighbourhood near Toronto city\n",
    "# create map of New York using latitude and longitude values\n",
    "\n",
    "map_toronto = folium.Map(location=[latitude, longitude], zoom_start=10)\n",
    "\n",
    "# add markers to map\n",
    "for lat, lng, borough, neighbourhood in zip(merge_df['Latitude'], merge_df['Longitude'], merge_df['Borough'], merge_df['Neighbourhood']):\n",
    "    label = '{}, {}'.format(neighbourhood, borough)\n",
    "    label = folium.Popup(label, parse_html=True)\n",
    "    folium.CircleMarker(\n",
    "        [lat, lng],\n",
    "        radius=5,\n",
    "        popup=label,\n",
    "        color='blue',\n",
    "        fill=True,\n",
    "        fill_color='#3186cc',\n",
    "        fill_opacity=0.7,\n",
    "        parse_html=False).add_to(map_toronto)  \n",
    "    \n",
    "map_toronto"
   ]
  },
  {
   "cell_type": "markdown",
   "metadata": {},
   "source": [
    "## Third Part - 1: Explore Neighbourhood in Scarborough"
   ]
  },
  {
   "cell_type": "code",
   "execution_count": 16,
   "metadata": {},
   "outputs": [
    {
     "data": {
      "text/html": [
       "<div>\n",
       "<style scoped>\n",
       "    .dataframe tbody tr th:only-of-type {\n",
       "        vertical-align: middle;\n",
       "    }\n",
       "\n",
       "    .dataframe tbody tr th {\n",
       "        vertical-align: top;\n",
       "    }\n",
       "\n",
       "    .dataframe thead th {\n",
       "        text-align: right;\n",
       "    }\n",
       "</style>\n",
       "<table border=\"1\" class=\"dataframe\">\n",
       "  <thead>\n",
       "    <tr style=\"text-align: right;\">\n",
       "      <th></th>\n",
       "      <th>Postcode</th>\n",
       "      <th>Borough</th>\n",
       "      <th>Neighbourhood</th>\n",
       "      <th>Latitude</th>\n",
       "      <th>Longitude</th>\n",
       "    </tr>\n",
       "  </thead>\n",
       "  <tbody>\n",
       "    <tr>\n",
       "      <th>0</th>\n",
       "      <td>M1B</td>\n",
       "      <td>Scarborough</td>\n",
       "      <td>Rouge, Malvern</td>\n",
       "      <td>43.806686</td>\n",
       "      <td>-79.194353</td>\n",
       "    </tr>\n",
       "    <tr>\n",
       "      <th>1</th>\n",
       "      <td>M1C</td>\n",
       "      <td>Scarborough</td>\n",
       "      <td>Highland Creek, Rouge Hill, Port Union</td>\n",
       "      <td>43.784535</td>\n",
       "      <td>-79.160497</td>\n",
       "    </tr>\n",
       "    <tr>\n",
       "      <th>2</th>\n",
       "      <td>M1E</td>\n",
       "      <td>Scarborough</td>\n",
       "      <td>Guildwood, Morningside, West Hill</td>\n",
       "      <td>43.763573</td>\n",
       "      <td>-79.188711</td>\n",
       "    </tr>\n",
       "    <tr>\n",
       "      <th>3</th>\n",
       "      <td>M1G</td>\n",
       "      <td>Scarborough</td>\n",
       "      <td>Woburn</td>\n",
       "      <td>43.770992</td>\n",
       "      <td>-79.216917</td>\n",
       "    </tr>\n",
       "    <tr>\n",
       "      <th>4</th>\n",
       "      <td>M1H</td>\n",
       "      <td>Scarborough</td>\n",
       "      <td>Cedarbrae</td>\n",
       "      <td>43.773136</td>\n",
       "      <td>-79.239476</td>\n",
       "    </tr>\n",
       "  </tbody>\n",
       "</table>\n",
       "</div>"
      ],
      "text/plain": [
       "  Postcode      Borough                           Neighbourhood   Latitude  \\\n",
       "0      M1B  Scarborough                          Rouge, Malvern  43.806686   \n",
       "1      M1C  Scarborough  Highland Creek, Rouge Hill, Port Union  43.784535   \n",
       "2      M1E  Scarborough       Guildwood, Morningside, West Hill  43.763573   \n",
       "3      M1G  Scarborough                                  Woburn  43.770992   \n",
       "4      M1H  Scarborough                               Cedarbrae  43.773136   \n",
       "\n",
       "   Longitude  \n",
       "0 -79.194353  \n",
       "1 -79.160497  \n",
       "2 -79.188711  \n",
       "3 -79.216917  \n",
       "4 -79.239476  "
      ]
     },
     "execution_count": 16,
     "metadata": {},
     "output_type": "execute_result"
    }
   ],
   "source": [
    "scarborough_data = merge_df[merge_df['Borough'] == 'Scarborough'].reset_index(drop=True)\n",
    "scarborough_data.head()"
   ]
  },
  {
   "cell_type": "code",
   "execution_count": 17,
   "metadata": {},
   "outputs": [
    {
     "name": "stdout",
     "output_type": "stream",
     "text": [
      "The geograpical coordinate of Scarborough is 43.773077, -79.257774.\n"
     ]
    }
   ],
   "source": [
    "address = 'Scarborough, CA'\n",
    "\n",
    "geolocator = Nominatim(user_agent=\"sc_explorer\")\n",
    "location = geolocator.geocode(address)\n",
    "latitude = location.latitude\n",
    "longitude = location.longitude\n",
    "print('The geograpical coordinate of Scarborough is {}, {}.'.format(latitude, longitude))"
   ]
  },
  {
   "cell_type": "code",
   "execution_count": 18,
   "metadata": {
    "scrolled": true
   },
   "outputs": [
    {
     "data": {
      "text/html": [
       "<div style=\"width:100%;\"><div style=\"position:relative;width:100%;height:0;padding-bottom:60%;\"><iframe src=\"data:text/html;charset=utf-8;base64,PCFET0NUWVBFIGh0bWw+CjxoZWFkPiAgICAKICAgIDxtZXRhIGh0dHAtZXF1aXY9ImNvbnRlbnQtdHlwZSIgY29udGVudD0idGV4dC9odG1sOyBjaGFyc2V0PVVURi04IiAvPgogICAgCiAgICAgICAgPHNjcmlwdD4KICAgICAgICAgICAgTF9OT19UT1VDSCA9IGZhbHNlOwogICAgICAgICAgICBMX0RJU0FCTEVfM0QgPSBmYWxzZTsKICAgICAgICA8L3NjcmlwdD4KICAgIAogICAgPHNjcmlwdCBzcmM9Imh0dHBzOi8vY2RuLmpzZGVsaXZyLm5ldC9ucG0vbGVhZmxldEAxLjUuMS9kaXN0L2xlYWZsZXQuanMiPjwvc2NyaXB0PgogICAgPHNjcmlwdCBzcmM9Imh0dHBzOi8vY29kZS5qcXVlcnkuY29tL2pxdWVyeS0xLjEyLjQubWluLmpzIj48L3NjcmlwdD4KICAgIDxzY3JpcHQgc3JjPSJodHRwczovL21heGNkbi5ib290c3RyYXBjZG4uY29tL2Jvb3RzdHJhcC8zLjIuMC9qcy9ib290c3RyYXAubWluLmpzIj48L3NjcmlwdD4KICAgIDxzY3JpcHQgc3JjPSJodHRwczovL2NkbmpzLmNsb3VkZmxhcmUuY29tL2FqYXgvbGlicy9MZWFmbGV0LmF3ZXNvbWUtbWFya2Vycy8yLjAuMi9sZWFmbGV0LmF3ZXNvbWUtbWFya2Vycy5qcyI+PC9zY3JpcHQ+CiAgICA8bGluayByZWw9InN0eWxlc2hlZXQiIGhyZWY9Imh0dHBzOi8vY2RuLmpzZGVsaXZyLm5ldC9ucG0vbGVhZmxldEAxLjUuMS9kaXN0L2xlYWZsZXQuY3NzIi8+CiAgICA8bGluayByZWw9InN0eWxlc2hlZXQiIGhyZWY9Imh0dHBzOi8vbWF4Y2RuLmJvb3RzdHJhcGNkbi5jb20vYm9vdHN0cmFwLzMuMi4wL2Nzcy9ib290c3RyYXAubWluLmNzcyIvPgogICAgPGxpbmsgcmVsPSJzdHlsZXNoZWV0IiBocmVmPSJodHRwczovL21heGNkbi5ib290c3RyYXBjZG4uY29tL2Jvb3RzdHJhcC8zLjIuMC9jc3MvYm9vdHN0cmFwLXRoZW1lLm1pbi5jc3MiLz4KICAgIDxsaW5rIHJlbD0ic3R5bGVzaGVldCIgaHJlZj0iaHR0cHM6Ly9tYXhjZG4uYm9vdHN0cmFwY2RuLmNvbS9mb250LWF3ZXNvbWUvNC42LjMvY3NzL2ZvbnQtYXdlc29tZS5taW4uY3NzIi8+CiAgICA8bGluayByZWw9InN0eWxlc2hlZXQiIGhyZWY9Imh0dHBzOi8vY2RuanMuY2xvdWRmbGFyZS5jb20vYWpheC9saWJzL0xlYWZsZXQuYXdlc29tZS1tYXJrZXJzLzIuMC4yL2xlYWZsZXQuYXdlc29tZS1tYXJrZXJzLmNzcyIvPgogICAgPGxpbmsgcmVsPSJzdHlsZXNoZWV0IiBocmVmPSJodHRwczovL3Jhd2Nkbi5naXRoYWNrLmNvbS9weXRob24tdmlzdWFsaXphdGlvbi9mb2xpdW0vbWFzdGVyL2ZvbGl1bS90ZW1wbGF0ZXMvbGVhZmxldC5hd2Vzb21lLnJvdGF0ZS5jc3MiLz4KICAgIDxzdHlsZT5odG1sLCBib2R5IHt3aWR0aDogMTAwJTtoZWlnaHQ6IDEwMCU7bWFyZ2luOiAwO3BhZGRpbmc6IDA7fTwvc3R5bGU+CiAgICA8c3R5bGU+I21hcCB7cG9zaXRpb246YWJzb2x1dGU7dG9wOjA7Ym90dG9tOjA7cmlnaHQ6MDtsZWZ0OjA7fTwvc3R5bGU+CiAgICAKICAgICAgICAgICAgPG1ldGEgbmFtZT0idmlld3BvcnQiIGNvbnRlbnQ9IndpZHRoPWRldmljZS13aWR0aCwKICAgICAgICAgICAgICAgIGluaXRpYWwtc2NhbGU9MS4wLCBtYXhpbXVtLXNjYWxlPTEuMCwgdXNlci1zY2FsYWJsZT1ubyIgLz4KICAgICAgICAgICAgPHN0eWxlPgogICAgICAgICAgICAgICAgI21hcF8zZWEzOGU0MjQzZGU0NTJjYWMxNWU3NThmNjRjNmYzZCB7CiAgICAgICAgICAgICAgICAgICAgcG9zaXRpb246IHJlbGF0aXZlOwogICAgICAgICAgICAgICAgICAgIHdpZHRoOiAxMDAuMCU7CiAgICAgICAgICAgICAgICAgICAgaGVpZ2h0OiAxMDAuMCU7CiAgICAgICAgICAgICAgICAgICAgbGVmdDogMC4wJTsKICAgICAgICAgICAgICAgICAgICB0b3A6IDAuMCU7CiAgICAgICAgICAgICAgICB9CiAgICAgICAgICAgIDwvc3R5bGU+CiAgICAgICAgCjwvaGVhZD4KPGJvZHk+ICAgIAogICAgCiAgICAgICAgICAgIDxkaXYgY2xhc3M9ImZvbGl1bS1tYXAiIGlkPSJtYXBfM2VhMzhlNDI0M2RlNDUyY2FjMTVlNzU4ZjY0YzZmM2QiID48L2Rpdj4KICAgICAgICAKPC9ib2R5Pgo8c2NyaXB0PiAgICAKICAgIAogICAgICAgICAgICB2YXIgbWFwXzNlYTM4ZTQyNDNkZTQ1MmNhYzE1ZTc1OGY2NGM2ZjNkID0gTC5tYXAoCiAgICAgICAgICAgICAgICAibWFwXzNlYTM4ZTQyNDNkZTQ1MmNhYzE1ZTc1OGY2NGM2ZjNkIiwKICAgICAgICAgICAgICAgIHsKICAgICAgICAgICAgICAgICAgICBjZW50ZXI6IFs0My43NzMwNzcsIC03OS4yNTc3NzRdLAogICAgICAgICAgICAgICAgICAgIGNyczogTC5DUlMuRVBTRzM4NTcsCiAgICAgICAgICAgICAgICAgICAgem9vbTogMTAsCiAgICAgICAgICAgICAgICAgICAgem9vbUNvbnRyb2w6IHRydWUsCiAgICAgICAgICAgICAgICAgICAgcHJlZmVyQ2FudmFzOiBmYWxzZSwKICAgICAgICAgICAgICAgIH0KICAgICAgICAgICAgKTsKCiAgICAgICAgICAgIAoKICAgICAgICAKICAgIAogICAgICAgICAgICB2YXIgdGlsZV9sYXllcl84NzgxODlkZGI1NGI0MmQ0ODJmYzNkNjg2M2E3NjBlMyA9IEwudGlsZUxheWVyKAogICAgICAgICAgICAgICAgImh0dHBzOi8ve3N9LnRpbGUub3BlbnN0cmVldG1hcC5vcmcve3p9L3t4fS97eX0ucG5nIiwKICAgICAgICAgICAgICAgIHsiYXR0cmlidXRpb24iOiAiRGF0YSBieSBcdTAwMjZjb3B5OyBcdTAwM2NhIGhyZWY9XCJodHRwOi8vb3BlbnN0cmVldG1hcC5vcmdcIlx1MDAzZU9wZW5TdHJlZXRNYXBcdTAwM2MvYVx1MDAzZSwgdW5kZXIgXHUwMDNjYSBocmVmPVwiaHR0cDovL3d3dy5vcGVuc3RyZWV0bWFwLm9yZy9jb3B5cmlnaHRcIlx1MDAzZU9EYkxcdTAwM2MvYVx1MDAzZS4iLCAiZGV0ZWN0UmV0aW5hIjogZmFsc2UsICJtYXhOYXRpdmVab29tIjogMTgsICJtYXhab29tIjogMTgsICJtaW5ab29tIjogMCwgIm5vV3JhcCI6IGZhbHNlLCAib3BhY2l0eSI6IDEsICJzdWJkb21haW5zIjogImFiYyIsICJ0bXMiOiBmYWxzZX0KICAgICAgICAgICAgKS5hZGRUbyhtYXBfM2VhMzhlNDI0M2RlNDUyY2FjMTVlNzU4ZjY0YzZmM2QpOwogICAgICAgIAogICAgCiAgICAgICAgICAgIHZhciBjaXJjbGVfbWFya2VyXzk1OThkM2ViNjcxOTQ3NGFhMDBkODkyZjUyM2M0YThjID0gTC5jaXJjbGVNYXJrZXIoCiAgICAgICAgICAgICAgICBbNDMuODA2Njg2Mjk5OTk5OTk2LCAtNzkuMTk0MzUzNDAwMDAwMDFdLAogICAgICAgICAgICAgICAgeyJidWJibGluZ01vdXNlRXZlbnRzIjogdHJ1ZSwgImNvbG9yIjogImJsdWUiLCAiZGFzaEFycmF5IjogbnVsbCwgImRhc2hPZmZzZXQiOiBudWxsLCAiZmlsbCI6IHRydWUsICJmaWxsQ29sb3IiOiAiIzMxODZjYyIsICJmaWxsT3BhY2l0eSI6IDAuNywgImZpbGxSdWxlIjogImV2ZW5vZGQiLCAibGluZUNhcCI6ICJyb3VuZCIsICJsaW5lSm9pbiI6ICJyb3VuZCIsICJvcGFjaXR5IjogMS4wLCAicmFkaXVzIjogNSwgInN0cm9rZSI6IHRydWUsICJ3ZWlnaHQiOiAzfQogICAgICAgICAgICApLmFkZFRvKG1hcF8zZWEzOGU0MjQzZGU0NTJjYWMxNWU3NThmNjRjNmYzZCk7CiAgICAgICAgCiAgICAKICAgICAgICB2YXIgcG9wdXBfZjI5NzQyOGFiNzZlNDk2YzljMmM0MjVjMDk1MzQ1NmMgPSBMLnBvcHVwKHsibWF4V2lkdGgiOiAiMTAwJSJ9KTsKCiAgICAgICAgCiAgICAgICAgICAgIHZhciBodG1sXzdkMzdmNjk4NjlmNTQ4Y2Q5MmRiYzA3MzBmZThiNGI5ID0gJChgPGRpdiBpZD0iaHRtbF83ZDM3ZjY5ODY5ZjU0OGNkOTJkYmMwNzMwZmU4YjRiOSIgc3R5bGU9IndpZHRoOiAxMDAuMCU7IGhlaWdodDogMTAwLjAlOyI+Um91Z2UsIE1hbHZlcm4sIFNjYXJib3JvdWdoPC9kaXY+YClbMF07CiAgICAgICAgICAgIHBvcHVwX2YyOTc0MjhhYjc2ZTQ5NmM5YzJjNDI1YzA5NTM0NTZjLnNldENvbnRlbnQoaHRtbF83ZDM3ZjY5ODY5ZjU0OGNkOTJkYmMwNzMwZmU4YjRiOSk7CiAgICAgICAgCgogICAgICAgIGNpcmNsZV9tYXJrZXJfOTU5OGQzZWI2NzE5NDc0YWEwMGQ4OTJmNTIzYzRhOGMuYmluZFBvcHVwKHBvcHVwX2YyOTc0MjhhYjc2ZTQ5NmM5YzJjNDI1YzA5NTM0NTZjKQogICAgICAgIDsKCiAgICAgICAgCiAgICAKICAgIAogICAgICAgICAgICB2YXIgY2lyY2xlX21hcmtlcl9jZWFkOThhY2M3NGI0ZDdkOWFhYzk3M2UxYjM0MTk4NiA9IEwuY2lyY2xlTWFya2VyKAogICAgICAgICAgICAgICAgWzQzLjc4NDUzNTEsIC03OS4xNjA0OTcwOTk5OTk5OV0sCiAgICAgICAgICAgICAgICB7ImJ1YmJsaW5nTW91c2VFdmVudHMiOiB0cnVlLCAiY29sb3IiOiAiYmx1ZSIsICJkYXNoQXJyYXkiOiBudWxsLCAiZGFzaE9mZnNldCI6IG51bGwsICJmaWxsIjogdHJ1ZSwgImZpbGxDb2xvciI6ICIjMzE4NmNjIiwgImZpbGxPcGFjaXR5IjogMC43LCAiZmlsbFJ1bGUiOiAiZXZlbm9kZCIsICJsaW5lQ2FwIjogInJvdW5kIiwgImxpbmVKb2luIjogInJvdW5kIiwgIm9wYWNpdHkiOiAxLjAsICJyYWRpdXMiOiA1LCAic3Ryb2tlIjogdHJ1ZSwgIndlaWdodCI6IDN9CiAgICAgICAgICAgICkuYWRkVG8obWFwXzNlYTM4ZTQyNDNkZTQ1MmNhYzE1ZTc1OGY2NGM2ZjNkKTsKICAgICAgICAKICAgIAogICAgICAgIHZhciBwb3B1cF9kYmI0NGIzM2E3ZGE0NGQ4OTVmNzhkOTgxMDU4Y2UyYyA9IEwucG9wdXAoeyJtYXhXaWR0aCI6ICIxMDAlIn0pOwoKICAgICAgICAKICAgICAgICAgICAgdmFyIGh0bWxfOTllNTU2MGJiYzI4NDI3ZWE3MjU4ZmFiMjM3YzczODUgPSAkKGA8ZGl2IGlkPSJodG1sXzk5ZTU1NjBiYmMyODQyN2VhNzI1OGZhYjIzN2M3Mzg1IiBzdHlsZT0id2lkdGg6IDEwMC4wJTsgaGVpZ2h0OiAxMDAuMCU7Ij5IaWdobGFuZCBDcmVlaywgUm91Z2UgSGlsbCwgUG9ydCBVbmlvbiwgU2NhcmJvcm91Z2g8L2Rpdj5gKVswXTsKICAgICAgICAgICAgcG9wdXBfZGJiNDRiMzNhN2RhNDRkODk1Zjc4ZDk4MTA1OGNlMmMuc2V0Q29udGVudChodG1sXzk5ZTU1NjBiYmMyODQyN2VhNzI1OGZhYjIzN2M3Mzg1KTsKICAgICAgICAKCiAgICAgICAgY2lyY2xlX21hcmtlcl9jZWFkOThhY2M3NGI0ZDdkOWFhYzk3M2UxYjM0MTk4Ni5iaW5kUG9wdXAocG9wdXBfZGJiNDRiMzNhN2RhNDRkODk1Zjc4ZDk4MTA1OGNlMmMpCiAgICAgICAgOwoKICAgICAgICAKICAgIAogICAgCiAgICAgICAgICAgIHZhciBjaXJjbGVfbWFya2VyXzA3OTY5MmQzNGM3YzQ2M2Y5NzA4ZTA1Y2E0YWI2ZjUwID0gTC5jaXJjbGVNYXJrZXIoCiAgICAgICAgICAgICAgICBbNDMuNzYzNTcyNiwgLTc5LjE4ODcxMTVdLAogICAgICAgICAgICAgICAgeyJidWJibGluZ01vdXNlRXZlbnRzIjogdHJ1ZSwgImNvbG9yIjogImJsdWUiLCAiZGFzaEFycmF5IjogbnVsbCwgImRhc2hPZmZzZXQiOiBudWxsLCAiZmlsbCI6IHRydWUsICJmaWxsQ29sb3IiOiAiIzMxODZjYyIsICJmaWxsT3BhY2l0eSI6IDAuNywgImZpbGxSdWxlIjogImV2ZW5vZGQiLCAibGluZUNhcCI6ICJyb3VuZCIsICJsaW5lSm9pbiI6ICJyb3VuZCIsICJvcGFjaXR5IjogMS4wLCAicmFkaXVzIjogNSwgInN0cm9rZSI6IHRydWUsICJ3ZWlnaHQiOiAzfQogICAgICAgICAgICApLmFkZFRvKG1hcF8zZWEzOGU0MjQzZGU0NTJjYWMxNWU3NThmNjRjNmYzZCk7CiAgICAgICAgCiAgICAKICAgICAgICB2YXIgcG9wdXBfNjEwY2M5OWUxNTQ0NDRiMjhlZDdkZjUwZjYxNTEwYmMgPSBMLnBvcHVwKHsibWF4V2lkdGgiOiAiMTAwJSJ9KTsKCiAgICAgICAgCiAgICAgICAgICAgIHZhciBodG1sXzk0ZDkzMjI4MTNkZDQwZjVhMDM2ZjkzMjIwZjNjYzA3ID0gJChgPGRpdiBpZD0iaHRtbF85NGQ5MzIyODEzZGQ0MGY1YTAzNmY5MzIyMGYzY2MwNyIgc3R5bGU9IndpZHRoOiAxMDAuMCU7IGhlaWdodDogMTAwLjAlOyI+R3VpbGR3b29kLCBNb3JuaW5nc2lkZSwgV2VzdCBIaWxsLCBTY2FyYm9yb3VnaDwvZGl2PmApWzBdOwogICAgICAgICAgICBwb3B1cF82MTBjYzk5ZTE1NDQ0NGIyOGVkN2RmNTBmNjE1MTBiYy5zZXRDb250ZW50KGh0bWxfOTRkOTMyMjgxM2RkNDBmNWEwMzZmOTMyMjBmM2NjMDcpOwogICAgICAgIAoKICAgICAgICBjaXJjbGVfbWFya2VyXzA3OTY5MmQzNGM3YzQ2M2Y5NzA4ZTA1Y2E0YWI2ZjUwLmJpbmRQb3B1cChwb3B1cF82MTBjYzk5ZTE1NDQ0NGIyOGVkN2RmNTBmNjE1MTBiYykKICAgICAgICA7CgogICAgICAgIAogICAgCiAgICAKICAgICAgICAgICAgdmFyIGNpcmNsZV9tYXJrZXJfODY2MTI0MDI1M2ZkNDc5OGI0MDNkMjNlY2EwMzcyY2UgPSBMLmNpcmNsZU1hcmtlcigKICAgICAgICAgICAgICAgIFs0My43NzA5OTIxLCAtNzkuMjE2OTE3NDAwMDAwMDFdLAogICAgICAgICAgICAgICAgeyJidWJibGluZ01vdXNlRXZlbnRzIjogdHJ1ZSwgImNvbG9yIjogImJsdWUiLCAiZGFzaEFycmF5IjogbnVsbCwgImRhc2hPZmZzZXQiOiBudWxsLCAiZmlsbCI6IHRydWUsICJmaWxsQ29sb3IiOiAiIzMxODZjYyIsICJmaWxsT3BhY2l0eSI6IDAuNywgImZpbGxSdWxlIjogImV2ZW5vZGQiLCAibGluZUNhcCI6ICJyb3VuZCIsICJsaW5lSm9pbiI6ICJyb3VuZCIsICJvcGFjaXR5IjogMS4wLCAicmFkaXVzIjogNSwgInN0cm9rZSI6IHRydWUsICJ3ZWlnaHQiOiAzfQogICAgICAgICAgICApLmFkZFRvKG1hcF8zZWEzOGU0MjQzZGU0NTJjYWMxNWU3NThmNjRjNmYzZCk7CiAgICAgICAgCiAgICAKICAgICAgICB2YXIgcG9wdXBfZWYwOTc1MWJhMGM4NDVmZTgxYThjZWJjODg5MGJmOWEgPSBMLnBvcHVwKHsibWF4V2lkdGgiOiAiMTAwJSJ9KTsKCiAgICAgICAgCiAgICAgICAgICAgIHZhciBodG1sXzc0MWM2ZjgyMWNiZDQ1OWFiYWViYWVmZWE3ZjIxOTZkID0gJChgPGRpdiBpZD0iaHRtbF83NDFjNmY4MjFjYmQ0NTlhYmFlYmFlZmVhN2YyMTk2ZCIgc3R5bGU9IndpZHRoOiAxMDAuMCU7IGhlaWdodDogMTAwLjAlOyI+V29idXJuLCBTY2FyYm9yb3VnaDwvZGl2PmApWzBdOwogICAgICAgICAgICBwb3B1cF9lZjA5NzUxYmEwYzg0NWZlODFhOGNlYmM4ODkwYmY5YS5zZXRDb250ZW50KGh0bWxfNzQxYzZmODIxY2JkNDU5YWJhZWJhZWZlYTdmMjE5NmQpOwogICAgICAgIAoKICAgICAgICBjaXJjbGVfbWFya2VyXzg2NjEyNDAyNTNmZDQ3OThiNDAzZDIzZWNhMDM3MmNlLmJpbmRQb3B1cChwb3B1cF9lZjA5NzUxYmEwYzg0NWZlODFhOGNlYmM4ODkwYmY5YSkKICAgICAgICA7CgogICAgICAgIAogICAgCiAgICAKICAgICAgICAgICAgdmFyIGNpcmNsZV9tYXJrZXJfYjkyZjkyMzAwMTE5NDVjZGFjNDJjOGRkN2MzMWJkZjIgPSBMLmNpcmNsZU1hcmtlcigKICAgICAgICAgICAgICAgIFs0My43NzMxMzYsIC03OS4yMzk0NzYwOTk5OTk5OV0sCiAgICAgICAgICAgICAgICB7ImJ1YmJsaW5nTW91c2VFdmVudHMiOiB0cnVlLCAiY29sb3IiOiAiYmx1ZSIsICJkYXNoQXJyYXkiOiBudWxsLCAiZGFzaE9mZnNldCI6IG51bGwsICJmaWxsIjogdHJ1ZSwgImZpbGxDb2xvciI6ICIjMzE4NmNjIiwgImZpbGxPcGFjaXR5IjogMC43LCAiZmlsbFJ1bGUiOiAiZXZlbm9kZCIsICJsaW5lQ2FwIjogInJvdW5kIiwgImxpbmVKb2luIjogInJvdW5kIiwgIm9wYWNpdHkiOiAxLjAsICJyYWRpdXMiOiA1LCAic3Ryb2tlIjogdHJ1ZSwgIndlaWdodCI6IDN9CiAgICAgICAgICAgICkuYWRkVG8obWFwXzNlYTM4ZTQyNDNkZTQ1MmNhYzE1ZTc1OGY2NGM2ZjNkKTsKICAgICAgICAKICAgIAogICAgICAgIHZhciBwb3B1cF8xODBiNDU3ZjlhMGE0YWY5YjVlMzllMzUwNmNkZThjNSA9IEwucG9wdXAoeyJtYXhXaWR0aCI6ICIxMDAlIn0pOwoKICAgICAgICAKICAgICAgICAgICAgdmFyIGh0bWxfNDE4ZWQ1YmQ3NTMxNGRlNjg2ZTA4YzBiMGFjN2M2ZTMgPSAkKGA8ZGl2IGlkPSJodG1sXzQxOGVkNWJkNzUzMTRkZTY4NmUwOGMwYjBhYzdjNmUzIiBzdHlsZT0id2lkdGg6IDEwMC4wJTsgaGVpZ2h0OiAxMDAuMCU7Ij5DZWRhcmJyYWUsIFNjYXJib3JvdWdoPC9kaXY+YClbMF07CiAgICAgICAgICAgIHBvcHVwXzE4MGI0NTdmOWEwYTRhZjliNWUzOWUzNTA2Y2RlOGM1LnNldENvbnRlbnQoaHRtbF80MThlZDViZDc1MzE0ZGU2ODZlMDhjMGIwYWM3YzZlMyk7CiAgICAgICAgCgogICAgICAgIGNpcmNsZV9tYXJrZXJfYjkyZjkyMzAwMTE5NDVjZGFjNDJjOGRkN2MzMWJkZjIuYmluZFBvcHVwKHBvcHVwXzE4MGI0NTdmOWEwYTRhZjliNWUzOWUzNTA2Y2RlOGM1KQogICAgICAgIDsKCiAgICAgICAgCiAgICAKICAgIAogICAgICAgICAgICB2YXIgY2lyY2xlX21hcmtlcl8wOTJjN2E4OWIzZmI0ZjE0YmExOGRlMTdmMjhkZDNmNSA9IEwuY2lyY2xlTWFya2VyKAogICAgICAgICAgICAgICAgWzQzLjc0NDczNDIsIC03OS4yMzk0NzYwOTk5OTk5OV0sCiAgICAgICAgICAgICAgICB7ImJ1YmJsaW5nTW91c2VFdmVudHMiOiB0cnVlLCAiY29sb3IiOiAiYmx1ZSIsICJkYXNoQXJyYXkiOiBudWxsLCAiZGFzaE9mZnNldCI6IG51bGwsICJmaWxsIjogdHJ1ZSwgImZpbGxDb2xvciI6ICIjMzE4NmNjIiwgImZpbGxPcGFjaXR5IjogMC43LCAiZmlsbFJ1bGUiOiAiZXZlbm9kZCIsICJsaW5lQ2FwIjogInJvdW5kIiwgImxpbmVKb2luIjogInJvdW5kIiwgIm9wYWNpdHkiOiAxLjAsICJyYWRpdXMiOiA1LCAic3Ryb2tlIjogdHJ1ZSwgIndlaWdodCI6IDN9CiAgICAgICAgICAgICkuYWRkVG8obWFwXzNlYTM4ZTQyNDNkZTQ1MmNhYzE1ZTc1OGY2NGM2ZjNkKTsKICAgICAgICAKICAgIAogICAgICAgIHZhciBwb3B1cF9jM2QwODRkZGRiMTY0N2U5OTk2MmE4YmFlODlhZmU2NCA9IEwucG9wdXAoeyJtYXhXaWR0aCI6ICIxMDAlIn0pOwoKICAgICAgICAKICAgICAgICAgICAgdmFyIGh0bWxfZTE5MTM3ZjE5MDAyNGVlMDk5ZGZlMzI4NzA5YzJmZWYgPSAkKGA8ZGl2IGlkPSJodG1sX2UxOTEzN2YxOTAwMjRlZTA5OWRmZTMyODcwOWMyZmVmIiBzdHlsZT0id2lkdGg6IDEwMC4wJTsgaGVpZ2h0OiAxMDAuMCU7Ij5TY2FyYm9yb3VnaCBWaWxsYWdlLCBTY2FyYm9yb3VnaDwvZGl2PmApWzBdOwogICAgICAgICAgICBwb3B1cF9jM2QwODRkZGRiMTY0N2U5OTk2MmE4YmFlODlhZmU2NC5zZXRDb250ZW50KGh0bWxfZTE5MTM3ZjE5MDAyNGVlMDk5ZGZlMzI4NzA5YzJmZWYpOwogICAgICAgIAoKICAgICAgICBjaXJjbGVfbWFya2VyXzA5MmM3YTg5YjNmYjRmMTRiYTE4ZGUxN2YyOGRkM2Y1LmJpbmRQb3B1cChwb3B1cF9jM2QwODRkZGRiMTY0N2U5OTk2MmE4YmFlODlhZmU2NCkKICAgICAgICA7CgogICAgICAgIAogICAgCiAgICAKICAgICAgICAgICAgdmFyIGNpcmNsZV9tYXJrZXJfOWU2ZGQ5MWQ2MzlmNDhlMmFhNmJiMTFkYWQ3M2MzYzkgPSBMLmNpcmNsZU1hcmtlcigKICAgICAgICAgICAgICAgIFs0My43Mjc5MjkyLCAtNzkuMjYyMDI5NDAwMDAwMDJdLAogICAgICAgICAgICAgICAgeyJidWJibGluZ01vdXNlRXZlbnRzIjogdHJ1ZSwgImNvbG9yIjogImJsdWUiLCAiZGFzaEFycmF5IjogbnVsbCwgImRhc2hPZmZzZXQiOiBudWxsLCAiZmlsbCI6IHRydWUsICJmaWxsQ29sb3IiOiAiIzMxODZjYyIsICJmaWxsT3BhY2l0eSI6IDAuNywgImZpbGxSdWxlIjogImV2ZW5vZGQiLCAibGluZUNhcCI6ICJyb3VuZCIsICJsaW5lSm9pbiI6ICJyb3VuZCIsICJvcGFjaXR5IjogMS4wLCAicmFkaXVzIjogNSwgInN0cm9rZSI6IHRydWUsICJ3ZWlnaHQiOiAzfQogICAgICAgICAgICApLmFkZFRvKG1hcF8zZWEzOGU0MjQzZGU0NTJjYWMxNWU3NThmNjRjNmYzZCk7CiAgICAgICAgCiAgICAKICAgICAgICB2YXIgcG9wdXBfYzE2MjBkZjA2MDJkNGUyZGFkZmU5YzU4ZjUzMTg1NDcgPSBMLnBvcHVwKHsibWF4V2lkdGgiOiAiMTAwJSJ9KTsKCiAgICAgICAgCiAgICAgICAgICAgIHZhciBodG1sX2MwM2QwY2Y0NzM5NTRkMDViMDQ0MzU4ZmYyOGI1YjA4ID0gJChgPGRpdiBpZD0iaHRtbF9jMDNkMGNmNDczOTU0ZDA1YjA0NDM1OGZmMjhiNWIwOCIgc3R5bGU9IndpZHRoOiAxMDAuMCU7IGhlaWdodDogMTAwLjAlOyI+RWFzdCBCaXJjaG1vdW50IFBhcmssIElvbnZpZXcsIEtlbm5lZHkgUGFyaywgU2NhcmJvcm91Z2g8L2Rpdj5gKVswXTsKICAgICAgICAgICAgcG9wdXBfYzE2MjBkZjA2MDJkNGUyZGFkZmU5YzU4ZjUzMTg1NDcuc2V0Q29udGVudChodG1sX2MwM2QwY2Y0NzM5NTRkMDViMDQ0MzU4ZmYyOGI1YjA4KTsKICAgICAgICAKCiAgICAgICAgY2lyY2xlX21hcmtlcl85ZTZkZDkxZDYzOWY0OGUyYWE2YmIxMWRhZDczYzNjOS5iaW5kUG9wdXAocG9wdXBfYzE2MjBkZjA2MDJkNGUyZGFkZmU5YzU4ZjUzMTg1NDcpCiAgICAgICAgOwoKICAgICAgICAKICAgIAogICAgCiAgICAgICAgICAgIHZhciBjaXJjbGVfbWFya2VyXzM0M2UxMDAyMmMzZjQ0MjA5MDk2ODQ4ZDNmOGJmY2NmID0gTC5jaXJjbGVNYXJrZXIoCiAgICAgICAgICAgICAgICBbNDMuNzExMTExNzAwMDAwMDA0LCAtNzkuMjg0NTc3Ml0sCiAgICAgICAgICAgICAgICB7ImJ1YmJsaW5nTW91c2VFdmVudHMiOiB0cnVlLCAiY29sb3IiOiAiYmx1ZSIsICJkYXNoQXJyYXkiOiBudWxsLCAiZGFzaE9mZnNldCI6IG51bGwsICJmaWxsIjogdHJ1ZSwgImZpbGxDb2xvciI6ICIjMzE4NmNjIiwgImZpbGxPcGFjaXR5IjogMC43LCAiZmlsbFJ1bGUiOiAiZXZlbm9kZCIsICJsaW5lQ2FwIjogInJvdW5kIiwgImxpbmVKb2luIjogInJvdW5kIiwgIm9wYWNpdHkiOiAxLjAsICJyYWRpdXMiOiA1LCAic3Ryb2tlIjogdHJ1ZSwgIndlaWdodCI6IDN9CiAgICAgICAgICAgICkuYWRkVG8obWFwXzNlYTM4ZTQyNDNkZTQ1MmNhYzE1ZTc1OGY2NGM2ZjNkKTsKICAgICAgICAKICAgIAogICAgICAgIHZhciBwb3B1cF82OTNjNTEzY2M1MTQ0YjE5YWUzNmRhMmVlNmMxNDkxOSA9IEwucG9wdXAoeyJtYXhXaWR0aCI6ICIxMDAlIn0pOwoKICAgICAgICAKICAgICAgICAgICAgdmFyIGh0bWxfNzMyMWY5ZDhjOTFjNGVjN2I3ZjI5OTYwMzVmZWQyYjIgPSAkKGA8ZGl2IGlkPSJodG1sXzczMjFmOWQ4YzkxYzRlYzdiN2YyOTk2MDM1ZmVkMmIyIiBzdHlsZT0id2lkdGg6IDEwMC4wJTsgaGVpZ2h0OiAxMDAuMCU7Ij5DbGFpcmxlYSwgR29sZGVuIE1pbGUsIE9ha3JpZGdlLCBTY2FyYm9yb3VnaDwvZGl2PmApWzBdOwogICAgICAgICAgICBwb3B1cF82OTNjNTEzY2M1MTQ0YjE5YWUzNmRhMmVlNmMxNDkxOS5zZXRDb250ZW50KGh0bWxfNzMyMWY5ZDhjOTFjNGVjN2I3ZjI5OTYwMzVmZWQyYjIpOwogICAgICAgIAoKICAgICAgICBjaXJjbGVfbWFya2VyXzM0M2UxMDAyMmMzZjQ0MjA5MDk2ODQ4ZDNmOGJmY2NmLmJpbmRQb3B1cChwb3B1cF82OTNjNTEzY2M1MTQ0YjE5YWUzNmRhMmVlNmMxNDkxOSkKICAgICAgICA7CgogICAgICAgIAogICAgCiAgICAKICAgICAgICAgICAgdmFyIGNpcmNsZV9tYXJrZXJfYzVmNjUyMmVlN2EzNDVmZTg1ODRmMDkwZWU1ZDhhYjYgPSBMLmNpcmNsZU1hcmtlcigKICAgICAgICAgICAgICAgIFs0My43MTYzMTYsIC03OS4yMzk0NzYwOTk5OTk5OV0sCiAgICAgICAgICAgICAgICB7ImJ1YmJsaW5nTW91c2VFdmVudHMiOiB0cnVlLCAiY29sb3IiOiAiYmx1ZSIsICJkYXNoQXJyYXkiOiBudWxsLCAiZGFzaE9mZnNldCI6IG51bGwsICJmaWxsIjogdHJ1ZSwgImZpbGxDb2xvciI6ICIjMzE4NmNjIiwgImZpbGxPcGFjaXR5IjogMC43LCAiZmlsbFJ1bGUiOiAiZXZlbm9kZCIsICJsaW5lQ2FwIjogInJvdW5kIiwgImxpbmVKb2luIjogInJvdW5kIiwgIm9wYWNpdHkiOiAxLjAsICJyYWRpdXMiOiA1LCAic3Ryb2tlIjogdHJ1ZSwgIndlaWdodCI6IDN9CiAgICAgICAgICAgICkuYWRkVG8obWFwXzNlYTM4ZTQyNDNkZTQ1MmNhYzE1ZTc1OGY2NGM2ZjNkKTsKICAgICAgICAKICAgIAogICAgICAgIHZhciBwb3B1cF8zMzVhNjRkYTAxMGY0MDkyOGMzNzA1M2QzYmRkMzcyOSA9IEwucG9wdXAoeyJtYXhXaWR0aCI6ICIxMDAlIn0pOwoKICAgICAgICAKICAgICAgICAgICAgdmFyIGh0bWxfZGNhNTI3YWJmMGY1NDIzNmFmODI5Yjg1NDk5MWUxNjcgPSAkKGA8ZGl2IGlkPSJodG1sX2RjYTUyN2FiZjBmNTQyMzZhZjgyOWI4NTQ5OTFlMTY3IiBzdHlsZT0id2lkdGg6IDEwMC4wJTsgaGVpZ2h0OiAxMDAuMCU7Ij5DbGlmZmNyZXN0LCBDbGlmZnNpZGUsIFNjYXJib3JvdWdoIFZpbGxhZ2UgV2VzdCwgU2NhcmJvcm91Z2g8L2Rpdj5gKVswXTsKICAgICAgICAgICAgcG9wdXBfMzM1YTY0ZGEwMTBmNDA5MjhjMzcwNTNkM2JkZDM3Mjkuc2V0Q29udGVudChodG1sX2RjYTUyN2FiZjBmNTQyMzZhZjgyOWI4NTQ5OTFlMTY3KTsKICAgICAgICAKCiAgICAgICAgY2lyY2xlX21hcmtlcl9jNWY2NTIyZWU3YTM0NWZlODU4NGYwOTBlZTVkOGFiNi5iaW5kUG9wdXAocG9wdXBfMzM1YTY0ZGEwMTBmNDA5MjhjMzcwNTNkM2JkZDM3MjkpCiAgICAgICAgOwoKICAgICAgICAKICAgIAogICAgCiAgICAgICAgICAgIHZhciBjaXJjbGVfbWFya2VyXzQzM2RjYzVlZDk0NjRiMjQ5NDNkZWIxMjM5MzVkNzVhID0gTC5jaXJjbGVNYXJrZXIoCiAgICAgICAgICAgICAgICBbNDMuNjkyNjU3MDAwMDAwMDA0LCAtNzkuMjY0ODQ4MV0sCiAgICAgICAgICAgICAgICB7ImJ1YmJsaW5nTW91c2VFdmVudHMiOiB0cnVlLCAiY29sb3IiOiAiYmx1ZSIsICJkYXNoQXJyYXkiOiBudWxsLCAiZGFzaE9mZnNldCI6IG51bGwsICJmaWxsIjogdHJ1ZSwgImZpbGxDb2xvciI6ICIjMzE4NmNjIiwgImZpbGxPcGFjaXR5IjogMC43LCAiZmlsbFJ1bGUiOiAiZXZlbm9kZCIsICJsaW5lQ2FwIjogInJvdW5kIiwgImxpbmVKb2luIjogInJvdW5kIiwgIm9wYWNpdHkiOiAxLjAsICJyYWRpdXMiOiA1LCAic3Ryb2tlIjogdHJ1ZSwgIndlaWdodCI6IDN9CiAgICAgICAgICAgICkuYWRkVG8obWFwXzNlYTM4ZTQyNDNkZTQ1MmNhYzE1ZTc1OGY2NGM2ZjNkKTsKICAgICAgICAKICAgIAogICAgICAgIHZhciBwb3B1cF80YWMwNzg2MzViNDc0MjZhOGQ4OWIxY2FjNmVhMDE1MiA9IEwucG9wdXAoeyJtYXhXaWR0aCI6ICIxMDAlIn0pOwoKICAgICAgICAKICAgICAgICAgICAgdmFyIGh0bWxfYTU1MzQ4MzY4ODVlNDYwYTg3ZDdlNzFlYjlhYjkxNjggPSAkKGA8ZGl2IGlkPSJodG1sX2E1NTM0ODM2ODg1ZTQ2MGE4N2Q3ZTcxZWI5YWI5MTY4IiBzdHlsZT0id2lkdGg6IDEwMC4wJTsgaGVpZ2h0OiAxMDAuMCU7Ij5CaXJjaCBDbGlmZiwgQ2xpZmZzaWRlIFdlc3QsIFNjYXJib3JvdWdoPC9kaXY+YClbMF07CiAgICAgICAgICAgIHBvcHVwXzRhYzA3ODYzNWI0NzQyNmE4ZDg5YjFjYWM2ZWEwMTUyLnNldENvbnRlbnQoaHRtbF9hNTUzNDgzNjg4NWU0NjBhODdkN2U3MWViOWFiOTE2OCk7CiAgICAgICAgCgogICAgICAgIGNpcmNsZV9tYXJrZXJfNDMzZGNjNWVkOTQ2NGIyNDk0M2RlYjEyMzkzNWQ3NWEuYmluZFBvcHVwKHBvcHVwXzRhYzA3ODYzNWI0NzQyNmE4ZDg5YjFjYWM2ZWEwMTUyKQogICAgICAgIDsKCiAgICAgICAgCiAgICAKICAgIAogICAgICAgICAgICB2YXIgY2lyY2xlX21hcmtlcl9lODliNWNjNjE0MTg0MzYyYmNmZmFjZGJjNjhkZTZhMCA9IEwuY2lyY2xlTWFya2VyKAogICAgICAgICAgICAgICAgWzQzLjc1NzQwOTYsIC03OS4yNzMzMDQwMDAwMDAwMV0sCiAgICAgICAgICAgICAgICB7ImJ1YmJsaW5nTW91c2VFdmVudHMiOiB0cnVlLCAiY29sb3IiOiAiYmx1ZSIsICJkYXNoQXJyYXkiOiBudWxsLCAiZGFzaE9mZnNldCI6IG51bGwsICJmaWxsIjogdHJ1ZSwgImZpbGxDb2xvciI6ICIjMzE4NmNjIiwgImZpbGxPcGFjaXR5IjogMC43LCAiZmlsbFJ1bGUiOiAiZXZlbm9kZCIsICJsaW5lQ2FwIjogInJvdW5kIiwgImxpbmVKb2luIjogInJvdW5kIiwgIm9wYWNpdHkiOiAxLjAsICJyYWRpdXMiOiA1LCAic3Ryb2tlIjogdHJ1ZSwgIndlaWdodCI6IDN9CiAgICAgICAgICAgICkuYWRkVG8obWFwXzNlYTM4ZTQyNDNkZTQ1MmNhYzE1ZTc1OGY2NGM2ZjNkKTsKICAgICAgICAKICAgIAogICAgICAgIHZhciBwb3B1cF8yMThjZTFkZDkwYjQ0NDU3YjMzMDYxOTIzMGUzMDM2MyA9IEwucG9wdXAoeyJtYXhXaWR0aCI6ICIxMDAlIn0pOwoKICAgICAgICAKICAgICAgICAgICAgdmFyIGh0bWxfMzZhZmIzNTMwZTE2NDI2Yzk3MTIwODU5MWUwZjlmNDYgPSAkKGA8ZGl2IGlkPSJodG1sXzM2YWZiMzUzMGUxNjQyNmM5NzEyMDg1OTFlMGY5ZjQ2IiBzdHlsZT0id2lkdGg6IDEwMC4wJTsgaGVpZ2h0OiAxMDAuMCU7Ij5Eb3JzZXQgUGFyaywgU2NhcmJvcm91Z2ggVG93biBDZW50cmUsIFdleGZvcmQgSGVpZ2h0cywgU2NhcmJvcm91Z2g8L2Rpdj5gKVswXTsKICAgICAgICAgICAgcG9wdXBfMjE4Y2UxZGQ5MGI0NDQ1N2IzMzA2MTkyMzBlMzAzNjMuc2V0Q29udGVudChodG1sXzM2YWZiMzUzMGUxNjQyNmM5NzEyMDg1OTFlMGY5ZjQ2KTsKICAgICAgICAKCiAgICAgICAgY2lyY2xlX21hcmtlcl9lODliNWNjNjE0MTg0MzYyYmNmZmFjZGJjNjhkZTZhMC5iaW5kUG9wdXAocG9wdXBfMjE4Y2UxZGQ5MGI0NDQ1N2IzMzA2MTkyMzBlMzAzNjMpCiAgICAgICAgOwoKICAgICAgICAKICAgIAogICAgCiAgICAgICAgICAgIHZhciBjaXJjbGVfbWFya2VyX2M3ZTY4ZTk2YTE4YjRmOTdhZmRiMmNjMGE3MTQ3NWQyID0gTC5jaXJjbGVNYXJrZXIoCiAgICAgICAgICAgICAgICBbNDMuNzUwMDcxNTAwMDAwMDA0LCAtNzkuMjk1ODQ5MV0sCiAgICAgICAgICAgICAgICB7ImJ1YmJsaW5nTW91c2VFdmVudHMiOiB0cnVlLCAiY29sb3IiOiAiYmx1ZSIsICJkYXNoQXJyYXkiOiBudWxsLCAiZGFzaE9mZnNldCI6IG51bGwsICJmaWxsIjogdHJ1ZSwgImZpbGxDb2xvciI6ICIjMzE4NmNjIiwgImZpbGxPcGFjaXR5IjogMC43LCAiZmlsbFJ1bGUiOiAiZXZlbm9kZCIsICJsaW5lQ2FwIjogInJvdW5kIiwgImxpbmVKb2luIjogInJvdW5kIiwgIm9wYWNpdHkiOiAxLjAsICJyYWRpdXMiOiA1LCAic3Ryb2tlIjogdHJ1ZSwgIndlaWdodCI6IDN9CiAgICAgICAgICAgICkuYWRkVG8obWFwXzNlYTM4ZTQyNDNkZTQ1MmNhYzE1ZTc1OGY2NGM2ZjNkKTsKICAgICAgICAKICAgIAogICAgICAgIHZhciBwb3B1cF9hZjg5MDAzYmFhYTM0NzlmYmUyMmRkMGU1YWE4OTgzZSA9IEwucG9wdXAoeyJtYXhXaWR0aCI6ICIxMDAlIn0pOwoKICAgICAgICAKICAgICAgICAgICAgdmFyIGh0bWxfODllNWZjMWU5MjNmNGNmNGI4OTU1ZjUwMGQ3NmU5NDYgPSAkKGA8ZGl2IGlkPSJodG1sXzg5ZTVmYzFlOTIzZjRjZjRiODk1NWY1MDBkNzZlOTQ2IiBzdHlsZT0id2lkdGg6IDEwMC4wJTsgaGVpZ2h0OiAxMDAuMCU7Ij5NYXJ5dmFsZSwgV2V4Zm9yZCwgU2NhcmJvcm91Z2g8L2Rpdj5gKVswXTsKICAgICAgICAgICAgcG9wdXBfYWY4OTAwM2JhYWEzNDc5ZmJlMjJkZDBlNWFhODk4M2Uuc2V0Q29udGVudChodG1sXzg5ZTVmYzFlOTIzZjRjZjRiODk1NWY1MDBkNzZlOTQ2KTsKICAgICAgICAKCiAgICAgICAgY2lyY2xlX21hcmtlcl9jN2U2OGU5NmExOGI0Zjk3YWZkYjJjYzBhNzE0NzVkMi5iaW5kUG9wdXAocG9wdXBfYWY4OTAwM2JhYWEzNDc5ZmJlMjJkZDBlNWFhODk4M2UpCiAgICAgICAgOwoKICAgICAgICAKICAgIAogICAgCiAgICAgICAgICAgIHZhciBjaXJjbGVfbWFya2VyX2EyODYzZDczYjQ3MzRkNzFiNWNlMzUyNGVjYjU5ZjExID0gTC5jaXJjbGVNYXJrZXIoCiAgICAgICAgICAgICAgICBbNDMuNzk0MjAwMywgLTc5LjI2MjAyOTQwMDAwMDAyXSwKICAgICAgICAgICAgICAgIHsiYnViYmxpbmdNb3VzZUV2ZW50cyI6IHRydWUsICJjb2xvciI6ICJibHVlIiwgImRhc2hBcnJheSI6IG51bGwsICJkYXNoT2Zmc2V0IjogbnVsbCwgImZpbGwiOiB0cnVlLCAiZmlsbENvbG9yIjogIiMzMTg2Y2MiLCAiZmlsbE9wYWNpdHkiOiAwLjcsICJmaWxsUnVsZSI6ICJldmVub2RkIiwgImxpbmVDYXAiOiAicm91bmQiLCAibGluZUpvaW4iOiAicm91bmQiLCAib3BhY2l0eSI6IDEuMCwgInJhZGl1cyI6IDUsICJzdHJva2UiOiB0cnVlLCAid2VpZ2h0IjogM30KICAgICAgICAgICAgKS5hZGRUbyhtYXBfM2VhMzhlNDI0M2RlNDUyY2FjMTVlNzU4ZjY0YzZmM2QpOwogICAgICAgIAogICAgCiAgICAgICAgdmFyIHBvcHVwXzg3NTM5MGY4MDc4NjRkNWM4OTNmMGVlODNhNTE0MGNkID0gTC5wb3B1cCh7Im1heFdpZHRoIjogIjEwMCUifSk7CgogICAgICAgIAogICAgICAgICAgICB2YXIgaHRtbF9mNzJjZGM3MTA3NGI0NDNmOWViYjM0YThlNTAwY2JlNiA9ICQoYDxkaXYgaWQ9Imh0bWxfZjcyY2RjNzEwNzRiNDQzZjllYmIzNGE4ZTUwMGNiZTYiIHN0eWxlPSJ3aWR0aDogMTAwLjAlOyBoZWlnaHQ6IDEwMC4wJTsiPkFnaW5jb3VydCwgU2NhcmJvcm91Z2g8L2Rpdj5gKVswXTsKICAgICAgICAgICAgcG9wdXBfODc1MzkwZjgwNzg2NGQ1Yzg5M2YwZWU4M2E1MTQwY2Quc2V0Q29udGVudChodG1sX2Y3MmNkYzcxMDc0YjQ0M2Y5ZWJiMzRhOGU1MDBjYmU2KTsKICAgICAgICAKCiAgICAgICAgY2lyY2xlX21hcmtlcl9hMjg2M2Q3M2I0NzM0ZDcxYjVjZTM1MjRlY2I1OWYxMS5iaW5kUG9wdXAocG9wdXBfODc1MzkwZjgwNzg2NGQ1Yzg5M2YwZWU4M2E1MTQwY2QpCiAgICAgICAgOwoKICAgICAgICAKICAgIAogICAgCiAgICAgICAgICAgIHZhciBjaXJjbGVfbWFya2VyXzYyNmU1ZDQ1N2YzYzQ4YmI5ZTViODVmODYzMTMzYmRiID0gTC5jaXJjbGVNYXJrZXIoCiAgICAgICAgICAgICAgICBbNDMuNzgxNjM3NSwgLTc5LjMwNDMwMjFdLAogICAgICAgICAgICAgICAgeyJidWJibGluZ01vdXNlRXZlbnRzIjogdHJ1ZSwgImNvbG9yIjogImJsdWUiLCAiZGFzaEFycmF5IjogbnVsbCwgImRhc2hPZmZzZXQiOiBudWxsLCAiZmlsbCI6IHRydWUsICJmaWxsQ29sb3IiOiAiIzMxODZjYyIsICJmaWxsT3BhY2l0eSI6IDAuNywgImZpbGxSdWxlIjogImV2ZW5vZGQiLCAibGluZUNhcCI6ICJyb3VuZCIsICJsaW5lSm9pbiI6ICJyb3VuZCIsICJvcGFjaXR5IjogMS4wLCAicmFkaXVzIjogNSwgInN0cm9rZSI6IHRydWUsICJ3ZWlnaHQiOiAzfQogICAgICAgICAgICApLmFkZFRvKG1hcF8zZWEzOGU0MjQzZGU0NTJjYWMxNWU3NThmNjRjNmYzZCk7CiAgICAgICAgCiAgICAKICAgICAgICB2YXIgcG9wdXBfMzJlMGE2ZmJmOTc0NDllYTgzN2JkNWQzN2JmYTAxMWEgPSBMLnBvcHVwKHsibWF4V2lkdGgiOiAiMTAwJSJ9KTsKCiAgICAgICAgCiAgICAgICAgICAgIHZhciBodG1sX2Y0N2Y2ODE1MzZkNzQ2NWY4MmVlMGM0MjlkYTFmZTkwID0gJChgPGRpdiBpZD0iaHRtbF9mNDdmNjgxNTM2ZDc0NjVmODJlZTBjNDI5ZGExZmU5MCIgc3R5bGU9IndpZHRoOiAxMDAuMCU7IGhlaWdodDogMTAwLjAlOyI+Q2xhcmtzIENvcm5lcnMsIFN1bGxpdmFuLCBUYW0gTyYjMzk7U2hhbnRlciwgU2NhcmJvcm91Z2g8L2Rpdj5gKVswXTsKICAgICAgICAgICAgcG9wdXBfMzJlMGE2ZmJmOTc0NDllYTgzN2JkNWQzN2JmYTAxMWEuc2V0Q29udGVudChodG1sX2Y0N2Y2ODE1MzZkNzQ2NWY4MmVlMGM0MjlkYTFmZTkwKTsKICAgICAgICAKCiAgICAgICAgY2lyY2xlX21hcmtlcl82MjZlNWQ0NTdmM2M0OGJiOWU1Yjg1Zjg2MzEzM2JkYi5iaW5kUG9wdXAocG9wdXBfMzJlMGE2ZmJmOTc0NDllYTgzN2JkNWQzN2JmYTAxMWEpCiAgICAgICAgOwoKICAgICAgICAKICAgIAogICAgCiAgICAgICAgICAgIHZhciBjaXJjbGVfbWFya2VyX2E4NGJhODY2NDg1MzQxN2FiNWIzMDg5MjNkNTcwNTZlID0gTC5jaXJjbGVNYXJrZXIoCiAgICAgICAgICAgICAgICBbNDMuODE1MjUyMiwgLTc5LjI4NDU3NzJdLAogICAgICAgICAgICAgICAgeyJidWJibGluZ01vdXNlRXZlbnRzIjogdHJ1ZSwgImNvbG9yIjogImJsdWUiLCAiZGFzaEFycmF5IjogbnVsbCwgImRhc2hPZmZzZXQiOiBudWxsLCAiZmlsbCI6IHRydWUsICJmaWxsQ29sb3IiOiAiIzMxODZjYyIsICJmaWxsT3BhY2l0eSI6IDAuNywgImZpbGxSdWxlIjogImV2ZW5vZGQiLCAibGluZUNhcCI6ICJyb3VuZCIsICJsaW5lSm9pbiI6ICJyb3VuZCIsICJvcGFjaXR5IjogMS4wLCAicmFkaXVzIjogNSwgInN0cm9rZSI6IHRydWUsICJ3ZWlnaHQiOiAzfQogICAgICAgICAgICApLmFkZFRvKG1hcF8zZWEzOGU0MjQzZGU0NTJjYWMxNWU3NThmNjRjNmYzZCk7CiAgICAgICAgCiAgICAKICAgICAgICB2YXIgcG9wdXBfMjUxNWUwYzc0NDUzNDRhMzhmOWUxYzU3Y2ZhYTQ3ZDYgPSBMLnBvcHVwKHsibWF4V2lkdGgiOiAiMTAwJSJ9KTsKCiAgICAgICAgCiAgICAgICAgICAgIHZhciBodG1sX2I5YTBhNzkyZjc5ODQ5NGJiMDZiMzhjNDc0YWQwZGY4ID0gJChgPGRpdiBpZD0iaHRtbF9iOWEwYTc5MmY3OTg0OTRiYjA2YjM4YzQ3NGFkMGRmOCIgc3R5bGU9IndpZHRoOiAxMDAuMCU7IGhlaWdodDogMTAwLjAlOyI+QWdpbmNvdXJ0IE5vcnRoLCBMJiMzOTtBbW9yZWF1eCBFYXN0LCBNaWxsaWtlbiwgU3RlZWxlcyBFYXN0LCBTY2FyYm9yb3VnaDwvZGl2PmApWzBdOwogICAgICAgICAgICBwb3B1cF8yNTE1ZTBjNzQ0NTM0NGEzOGY5ZTFjNTdjZmFhNDdkNi5zZXRDb250ZW50KGh0bWxfYjlhMGE3OTJmNzk4NDk0YmIwNmIzOGM0NzRhZDBkZjgpOwogICAgICAgIAoKICAgICAgICBjaXJjbGVfbWFya2VyX2E4NGJhODY2NDg1MzQxN2FiNWIzMDg5MjNkNTcwNTZlLmJpbmRQb3B1cChwb3B1cF8yNTE1ZTBjNzQ0NTM0NGEzOGY5ZTFjNTdjZmFhNDdkNikKICAgICAgICA7CgogICAgICAgIAogICAgCiAgICAKICAgICAgICAgICAgdmFyIGNpcmNsZV9tYXJrZXJfZjNmMThlODk4ZmNlNGJlM2JlMzIwOTkyY2UwMGQwYjggPSBMLmNpcmNsZU1hcmtlcigKICAgICAgICAgICAgICAgIFs0My43OTk1MjUyMDAwMDAwMDUsIC03OS4zMTgzODg3XSwKICAgICAgICAgICAgICAgIHsiYnViYmxpbmdNb3VzZUV2ZW50cyI6IHRydWUsICJjb2xvciI6ICJibHVlIiwgImRhc2hBcnJheSI6IG51bGwsICJkYXNoT2Zmc2V0IjogbnVsbCwgImZpbGwiOiB0cnVlLCAiZmlsbENvbG9yIjogIiMzMTg2Y2MiLCAiZmlsbE9wYWNpdHkiOiAwLjcsICJmaWxsUnVsZSI6ICJldmVub2RkIiwgImxpbmVDYXAiOiAicm91bmQiLCAibGluZUpvaW4iOiAicm91bmQiLCAib3BhY2l0eSI6IDEuMCwgInJhZGl1cyI6IDUsICJzdHJva2UiOiB0cnVlLCAid2VpZ2h0IjogM30KICAgICAgICAgICAgKS5hZGRUbyhtYXBfM2VhMzhlNDI0M2RlNDUyY2FjMTVlNzU4ZjY0YzZmM2QpOwogICAgICAgIAogICAgCiAgICAgICAgdmFyIHBvcHVwX2I3NmE4YTBiODU1MjQxMTM4NzA5ZWVlYjgyNjllN2I0ID0gTC5wb3B1cCh7Im1heFdpZHRoIjogIjEwMCUifSk7CgogICAgICAgIAogICAgICAgICAgICB2YXIgaHRtbF85NTJjNTY1OWY1Yjk0OWUzOGI1YTc4MWI0NzRhMTg2ZCA9ICQoYDxkaXYgaWQ9Imh0bWxfOTUyYzU2NTlmNWI5NDllMzhiNWE3ODFiNDc0YTE4NmQiIHN0eWxlPSJ3aWR0aDogMTAwLjAlOyBoZWlnaHQ6IDEwMC4wJTsiPkwmIzM5O0Ftb3JlYXV4IFdlc3QsIFNjYXJib3JvdWdoPC9kaXY+YClbMF07CiAgICAgICAgICAgIHBvcHVwX2I3NmE4YTBiODU1MjQxMTM4NzA5ZWVlYjgyNjllN2I0LnNldENvbnRlbnQoaHRtbF85NTJjNTY1OWY1Yjk0OWUzOGI1YTc4MWI0NzRhMTg2ZCk7CiAgICAgICAgCgogICAgICAgIGNpcmNsZV9tYXJrZXJfZjNmMThlODk4ZmNlNGJlM2JlMzIwOTkyY2UwMGQwYjguYmluZFBvcHVwKHBvcHVwX2I3NmE4YTBiODU1MjQxMTM4NzA5ZWVlYjgyNjllN2I0KQogICAgICAgIDsKCiAgICAgICAgCiAgICAKICAgIAogICAgICAgICAgICB2YXIgY2lyY2xlX21hcmtlcl80MTA2ODgyYmVjZWY0ZWJiYmEzYzRhZjcxNjg0OGM5MSA9IEwuY2lyY2xlTWFya2VyKAogICAgICAgICAgICAgICAgWzQzLjgzNjEyNDcwMDAwMDAwNiwgLTc5LjIwNTYzNjA5OTk5OTk5XSwKICAgICAgICAgICAgICAgIHsiYnViYmxpbmdNb3VzZUV2ZW50cyI6IHRydWUsICJjb2xvciI6ICJibHVlIiwgImRhc2hBcnJheSI6IG51bGwsICJkYXNoT2Zmc2V0IjogbnVsbCwgImZpbGwiOiB0cnVlLCAiZmlsbENvbG9yIjogIiMzMTg2Y2MiLCAiZmlsbE9wYWNpdHkiOiAwLjcsICJmaWxsUnVsZSI6ICJldmVub2RkIiwgImxpbmVDYXAiOiAicm91bmQiLCAibGluZUpvaW4iOiAicm91bmQiLCAib3BhY2l0eSI6IDEuMCwgInJhZGl1cyI6IDUsICJzdHJva2UiOiB0cnVlLCAid2VpZ2h0IjogM30KICAgICAgICAgICAgKS5hZGRUbyhtYXBfM2VhMzhlNDI0M2RlNDUyY2FjMTVlNzU4ZjY0YzZmM2QpOwogICAgICAgIAogICAgCiAgICAgICAgdmFyIHBvcHVwX2E1ODYwNTZlOGFkMDRhOWJiM2JkZGFjZDI1MmMyNjI2ID0gTC5wb3B1cCh7Im1heFdpZHRoIjogIjEwMCUifSk7CgogICAgICAgIAogICAgICAgICAgICB2YXIgaHRtbF8yOWJkNGFjM2E4OTA0MmVlOGM4MmJkODA4NWJmYmNiZCA9ICQoYDxkaXYgaWQ9Imh0bWxfMjliZDRhYzNhODkwNDJlZThjODJiZDgwODViZmJjYmQiIHN0eWxlPSJ3aWR0aDogMTAwLjAlOyBoZWlnaHQ6IDEwMC4wJTsiPlVwcGVyIFJvdWdlLCBTY2FyYm9yb3VnaDwvZGl2PmApWzBdOwogICAgICAgICAgICBwb3B1cF9hNTg2MDU2ZThhZDA0YTliYjNiZGRhY2QyNTJjMjYyNi5zZXRDb250ZW50KGh0bWxfMjliZDRhYzNhODkwNDJlZThjODJiZDgwODViZmJjYmQpOwogICAgICAgIAoKICAgICAgICBjaXJjbGVfbWFya2VyXzQxMDY4ODJiZWNlZjRlYmJiYTNjNGFmNzE2ODQ4YzkxLmJpbmRQb3B1cChwb3B1cF9hNTg2MDU2ZThhZDA0YTliYjNiZGRhY2QyNTJjMjYyNikKICAgICAgICA7CgogICAgICAgIAogICAgCjwvc2NyaXB0Pg==\" style=\"position:absolute;width:100%;height:100%;left:0;top:0;border:none !important;\" allowfullscreen webkitallowfullscreen mozallowfullscreen></iframe></div></div>"
      ],
      "text/plain": [
       "<folium.folium.Map at 0xc528790>"
      ]
     },
     "execution_count": 18,
     "metadata": {},
     "output_type": "execute_result"
    }
   ],
   "source": [
    "map_scarborough = folium.Map(location=[latitude, longitude], zoom_start=10)\n",
    "\n",
    "# add markers to map\n",
    "for lat, lng, borough, neighbourhood in zip(scarborough_data['Latitude'], scarborough_data['Longitude'], scarborough_data['Borough'], scarborough_data['Neighbourhood']):\n",
    "    label = '{}, {}'.format(neighbourhood, borough)\n",
    "    label = folium.Popup(label, parse_html=True)\n",
    "    folium.CircleMarker(\n",
    "        [lat, lng],\n",
    "        radius=5,\n",
    "        popup=label,\n",
    "        color='blue',\n",
    "        fill=True,\n",
    "        fill_color='#3186cc',\n",
    "        fill_opacity=0.7,\n",
    "        parse_html=False).add_to(map_scarborough)  \n",
    "    \n",
    "map_scarborough"
   ]
  },
  {
   "cell_type": "markdown",
   "metadata": {},
   "source": [
    "## Third Part - 2: Explore Neighbourhood in North York"
   ]
  },
  {
   "cell_type": "code",
   "execution_count": 19,
   "metadata": {},
   "outputs": [
    {
     "data": {
      "text/html": [
       "<div>\n",
       "<style scoped>\n",
       "    .dataframe tbody tr th:only-of-type {\n",
       "        vertical-align: middle;\n",
       "    }\n",
       "\n",
       "    .dataframe tbody tr th {\n",
       "        vertical-align: top;\n",
       "    }\n",
       "\n",
       "    .dataframe thead th {\n",
       "        text-align: right;\n",
       "    }\n",
       "</style>\n",
       "<table border=\"1\" class=\"dataframe\">\n",
       "  <thead>\n",
       "    <tr style=\"text-align: right;\">\n",
       "      <th></th>\n",
       "      <th>Postcode</th>\n",
       "      <th>Borough</th>\n",
       "      <th>Neighbourhood</th>\n",
       "      <th>Latitude</th>\n",
       "      <th>Longitude</th>\n",
       "    </tr>\n",
       "  </thead>\n",
       "  <tbody>\n",
       "    <tr>\n",
       "      <th>0</th>\n",
       "      <td>M2H</td>\n",
       "      <td>North York</td>\n",
       "      <td>Hillcrest Village</td>\n",
       "      <td>43.803762</td>\n",
       "      <td>-79.363452</td>\n",
       "    </tr>\n",
       "    <tr>\n",
       "      <th>1</th>\n",
       "      <td>M2J</td>\n",
       "      <td>North York</td>\n",
       "      <td>Fairview, Henry Farm, Oriole</td>\n",
       "      <td>43.778517</td>\n",
       "      <td>-79.346556</td>\n",
       "    </tr>\n",
       "    <tr>\n",
       "      <th>2</th>\n",
       "      <td>M2K</td>\n",
       "      <td>North York</td>\n",
       "      <td>Bayview Village</td>\n",
       "      <td>43.786947</td>\n",
       "      <td>-79.385975</td>\n",
       "    </tr>\n",
       "    <tr>\n",
       "      <th>3</th>\n",
       "      <td>M2L</td>\n",
       "      <td>North York</td>\n",
       "      <td>Silver Hills, York Mills</td>\n",
       "      <td>43.757490</td>\n",
       "      <td>-79.374714</td>\n",
       "    </tr>\n",
       "    <tr>\n",
       "      <th>4</th>\n",
       "      <td>M2M</td>\n",
       "      <td>North York</td>\n",
       "      <td>Newtonbrook, Willowdale</td>\n",
       "      <td>43.789053</td>\n",
       "      <td>-79.408493</td>\n",
       "    </tr>\n",
       "  </tbody>\n",
       "</table>\n",
       "</div>"
      ],
      "text/plain": [
       "  Postcode     Borough                 Neighbourhood   Latitude  Longitude\n",
       "0      M2H  North York             Hillcrest Village  43.803762 -79.363452\n",
       "1      M2J  North York  Fairview, Henry Farm, Oriole  43.778517 -79.346556\n",
       "2      M2K  North York               Bayview Village  43.786947 -79.385975\n",
       "3      M2L  North York      Silver Hills, York Mills  43.757490 -79.374714\n",
       "4      M2M  North York       Newtonbrook, Willowdale  43.789053 -79.408493"
      ]
     },
     "execution_count": 19,
     "metadata": {},
     "output_type": "execute_result"
    }
   ],
   "source": [
    "north_york_data = merge_df[merge_df['Borough'] == 'North York'].reset_index(drop=True)\n",
    "north_york_data.head()"
   ]
  },
  {
   "cell_type": "code",
   "execution_count": 20,
   "metadata": {},
   "outputs": [
    {
     "name": "stdout",
     "output_type": "stream",
     "text": [
      "The geograpical coordinate of Scarborough is 43.7543263, -79.44911696639593.\n"
     ]
    }
   ],
   "source": [
    "address = 'North York, CA'\n",
    "\n",
    "geolocator = Nominatim(user_agent=\"ny_explorer\")\n",
    "location = geolocator.geocode(address)\n",
    "latitude = location.latitude\n",
    "longitude = location.longitude\n",
    "print('The geograpical coordinate of Scarborough is {}, {}.'.format(latitude, longitude))"
   ]
  },
  {
   "cell_type": "code",
   "execution_count": 21,
   "metadata": {
    "scrolled": true
   },
   "outputs": [
    {
     "data": {
      "text/html": [
       "<div style=\"width:100%;\"><div style=\"position:relative;width:100%;height:0;padding-bottom:60%;\"><iframe src=\"data:text/html;charset=utf-8;base64,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\" style=\"position:absolute;width:100%;height:100%;left:0;top:0;border:none !important;\" allowfullscreen webkitallowfullscreen mozallowfullscreen></iframe></div></div>"
      ],
      "text/plain": [
       "<folium.folium.Map at 0xd0461f0>"
      ]
     },
     "execution_count": 21,
     "metadata": {},
     "output_type": "execute_result"
    }
   ],
   "source": [
    "map_north_york = folium.Map(location=[latitude, longitude], zoom_start=10)\n",
    "\n",
    "# add markers to map\n",
    "for lat, lng, borough, neighbourhood in zip(north_york_data['Latitude'], north_york_data['Longitude'], north_york_data['Borough'], north_york_data['Neighbourhood']):\n",
    "    label = '{}, {}'.format(neighbourhood, borough)\n",
    "    label = folium.Popup(label, parse_html=True)\n",
    "    folium.CircleMarker(\n",
    "        [lat, lng],\n",
    "        radius=5,\n",
    "        popup=label,\n",
    "        color='blue',\n",
    "        fill=True,\n",
    "        fill_color='#3186cc',\n",
    "        fill_opacity=0.7,\n",
    "        parse_html=False).add_to(map_north_york)  \n",
    "    \n",
    "map_north_york"
   ]
  },
  {
   "cell_type": "markdown",
   "metadata": {},
   "source": [
    "## Third Part - 3: Explore Neighbourhood in Downtown Toronto"
   ]
  },
  {
   "cell_type": "code",
   "execution_count": 22,
   "metadata": {},
   "outputs": [
    {
     "data": {
      "text/html": [
       "<div>\n",
       "<style scoped>\n",
       "    .dataframe tbody tr th:only-of-type {\n",
       "        vertical-align: middle;\n",
       "    }\n",
       "\n",
       "    .dataframe tbody tr th {\n",
       "        vertical-align: top;\n",
       "    }\n",
       "\n",
       "    .dataframe thead th {\n",
       "        text-align: right;\n",
       "    }\n",
       "</style>\n",
       "<table border=\"1\" class=\"dataframe\">\n",
       "  <thead>\n",
       "    <tr style=\"text-align: right;\">\n",
       "      <th></th>\n",
       "      <th>Postcode</th>\n",
       "      <th>Borough</th>\n",
       "      <th>Neighbourhood</th>\n",
       "      <th>Latitude</th>\n",
       "      <th>Longitude</th>\n",
       "    </tr>\n",
       "  </thead>\n",
       "  <tbody>\n",
       "    <tr>\n",
       "      <th>0</th>\n",
       "      <td>M4W</td>\n",
       "      <td>Downtown Toronto</td>\n",
       "      <td>Rosedale</td>\n",
       "      <td>43.679563</td>\n",
       "      <td>-79.377529</td>\n",
       "    </tr>\n",
       "    <tr>\n",
       "      <th>1</th>\n",
       "      <td>M4X</td>\n",
       "      <td>Downtown Toronto</td>\n",
       "      <td>Cabbagetown, St. James Town</td>\n",
       "      <td>43.667967</td>\n",
       "      <td>-79.367675</td>\n",
       "    </tr>\n",
       "    <tr>\n",
       "      <th>2</th>\n",
       "      <td>M4Y</td>\n",
       "      <td>Downtown Toronto</td>\n",
       "      <td>Church and Wellesley</td>\n",
       "      <td>43.665860</td>\n",
       "      <td>-79.383160</td>\n",
       "    </tr>\n",
       "    <tr>\n",
       "      <th>3</th>\n",
       "      <td>M5A</td>\n",
       "      <td>Downtown Toronto</td>\n",
       "      <td>Harbourfront</td>\n",
       "      <td>43.654260</td>\n",
       "      <td>-79.360636</td>\n",
       "    </tr>\n",
       "    <tr>\n",
       "      <th>4</th>\n",
       "      <td>M5B</td>\n",
       "      <td>Downtown Toronto</td>\n",
       "      <td>Ryerson, Garden District</td>\n",
       "      <td>43.657162</td>\n",
       "      <td>-79.378937</td>\n",
       "    </tr>\n",
       "  </tbody>\n",
       "</table>\n",
       "</div>"
      ],
      "text/plain": [
       "  Postcode           Borough                Neighbourhood   Latitude  \\\n",
       "0      M4W  Downtown Toronto                     Rosedale  43.679563   \n",
       "1      M4X  Downtown Toronto  Cabbagetown, St. James Town  43.667967   \n",
       "2      M4Y  Downtown Toronto         Church and Wellesley  43.665860   \n",
       "3      M5A  Downtown Toronto                 Harbourfront  43.654260   \n",
       "4      M5B  Downtown Toronto     Ryerson, Garden District  43.657162   \n",
       "\n",
       "   Longitude  \n",
       "0 -79.377529  \n",
       "1 -79.367675  \n",
       "2 -79.383160  \n",
       "3 -79.360636  \n",
       "4 -79.378937  "
      ]
     },
     "execution_count": 22,
     "metadata": {},
     "output_type": "execute_result"
    }
   ],
   "source": [
    "downtown_data = merge_df[merge_df['Borough'] == 'Downtown Toronto'].reset_index(drop=True)\n",
    "downtown_data.head()"
   ]
  },
  {
   "cell_type": "code",
   "execution_count": 23,
   "metadata": {},
   "outputs": [
    {
     "name": "stdout",
     "output_type": "stream",
     "text": [
      "The geograpical coordinate of Scarborough is 43.6563221, -79.3809161.\n"
     ]
    }
   ],
   "source": [
    "address = 'Downtown Toronto, CA'\n",
    "\n",
    "geolocator = Nominatim(user_agent=\"dt_explorer\")\n",
    "location = geolocator.geocode(address)\n",
    "latitude = location.latitude\n",
    "longitude = location.longitude\n",
    "print('The geograpical coordinate of Scarborough is {}, {}.'.format(latitude, longitude))"
   ]
  },
  {
   "cell_type": "code",
   "execution_count": 24,
   "metadata": {},
   "outputs": [
    {
     "data": {
      "text/html": [
       "<div style=\"width:100%;\"><div style=\"position:relative;width:100%;height:0;padding-bottom:60%;\"><iframe src=\"data:text/html;charset=utf-8;base64,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\" style=\"position:absolute;width:100%;height:100%;left:0;top:0;border:none !important;\" allowfullscreen webkitallowfullscreen mozallowfullscreen></iframe></div></div>"
      ],
      "text/plain": [
       "<folium.folium.Map at 0xd0684c0>"
      ]
     },
     "execution_count": 24,
     "metadata": {},
     "output_type": "execute_result"
    }
   ],
   "source": [
    "map_downtown = folium.Map(location=[latitude, longitude], zoom_start=10)\n",
    "\n",
    "# add markers to map\n",
    "for lat, lng, borough, neighbourhood in zip(downtown_data['Latitude'], downtown_data['Longitude'], downtown_data['Borough'], downtown_data['Neighbourhood']):\n",
    "    label = '{}, {}'.format(neighbourhood, borough)\n",
    "    label = folium.Popup(label, parse_html=True)\n",
    "    folium.CircleMarker(\n",
    "        [lat, lng],\n",
    "        radius=5,\n",
    "        popup=label,\n",
    "        color='blue',\n",
    "        fill=True,\n",
    "        fill_color='#3186cc',\n",
    "        fill_opacity=0.7,\n",
    "        parse_html=False).add_to(map_downtown)  \n",
    "    \n",
    "map_downtown"
   ]
  }
 ],
 "metadata": {
  "kernelspec": {
   "display_name": "Python 3",
   "language": "python",
   "name": "python3"
  },
  "language_info": {
   "codemirror_mode": {
    "name": "ipython",
    "version": 3
   },
   "file_extension": ".py",
   "mimetype": "text/x-python",
   "name": "python",
   "nbconvert_exporter": "python",
   "pygments_lexer": "ipython3",
   "version": "3.8.1"
  }
 },
 "nbformat": 4,
 "nbformat_minor": 4
}
